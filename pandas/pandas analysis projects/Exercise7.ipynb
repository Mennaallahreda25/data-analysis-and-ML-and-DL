{
 "cells": [
  {
   "cell_type": "markdown",
   "metadata": {},
   "source": [
    "# Ex - GroupBy"
   ]
  },
  {
   "cell_type": "markdown",
   "metadata": {},
   "source": [
    "### Introduction:\n",
    "\n",
    "GroupBy can be summarized as Split-Apply-Combine.\n",
    "\n",
    "Special thanks to: https://github.com/justmarkham for sharing the dataset and materials.\n",
    "\n",
    "Check out this [Diagram](http://i.imgur.com/yjNkiwL.png)  \n",
    "### Step 1. Import the necessary libraries"
   ]
  },
  {
   "cell_type": "code",
   "execution_count": 1,
   "metadata": {
    "ExecuteTime": {
     "end_time": "2022-11-15T16:37:41.502458Z",
     "start_time": "2022-11-15T16:37:34.139922Z"
    }
   },
   "outputs": [],
   "source": [
    "import pandas as pd \n",
    "import io\n",
    "import requests "
   ]
  },
  {
   "cell_type": "markdown",
   "metadata": {},
   "source": [
    "### Step 2. Import the dataset from this [address](https://raw.githubusercontent.com/justmarkham/DAT8/master/data/drinks.csv). "
   ]
  },
  {
   "cell_type": "markdown",
   "metadata": {},
   "source": [
    "### Step 3. Assign it to a variable called drinks."
   ]
  },
  {
   "cell_type": "code",
   "execution_count": 5,
   "metadata": {
    "ExecuteTime": {
     "end_time": "2022-11-15T16:51:37.742124Z",
     "start_time": "2022-11-15T16:51:37.302927Z"
    }
   },
   "outputs": [
    {
     "data": {
      "text/html": [
       "<div>\n",
       "<style scoped>\n",
       "    .dataframe tbody tr th:only-of-type {\n",
       "        vertical-align: middle;\n",
       "    }\n",
       "\n",
       "    .dataframe tbody tr th {\n",
       "        vertical-align: top;\n",
       "    }\n",
       "\n",
       "    .dataframe thead th {\n",
       "        text-align: right;\n",
       "    }\n",
       "</style>\n",
       "<table border=\"1\" class=\"dataframe\">\n",
       "  <thead>\n",
       "    <tr style=\"text-align: right;\">\n",
       "      <th></th>\n",
       "      <th>country</th>\n",
       "      <th>beer_servings</th>\n",
       "      <th>spirit_servings</th>\n",
       "      <th>wine_servings</th>\n",
       "      <th>total_litres_of_pure_alcohol</th>\n",
       "      <th>continent</th>\n",
       "    </tr>\n",
       "  </thead>\n",
       "  <tbody>\n",
       "    <tr>\n",
       "      <th>0</th>\n",
       "      <td>Afghanistan</td>\n",
       "      <td>0</td>\n",
       "      <td>0</td>\n",
       "      <td>0</td>\n",
       "      <td>0.0</td>\n",
       "      <td>AS</td>\n",
       "    </tr>\n",
       "    <tr>\n",
       "      <th>1</th>\n",
       "      <td>Albania</td>\n",
       "      <td>89</td>\n",
       "      <td>132</td>\n",
       "      <td>54</td>\n",
       "      <td>4.9</td>\n",
       "      <td>EU</td>\n",
       "    </tr>\n",
       "    <tr>\n",
       "      <th>2</th>\n",
       "      <td>Algeria</td>\n",
       "      <td>25</td>\n",
       "      <td>0</td>\n",
       "      <td>14</td>\n",
       "      <td>0.7</td>\n",
       "      <td>AF</td>\n",
       "    </tr>\n",
       "    <tr>\n",
       "      <th>3</th>\n",
       "      <td>Andorra</td>\n",
       "      <td>245</td>\n",
       "      <td>138</td>\n",
       "      <td>312</td>\n",
       "      <td>12.4</td>\n",
       "      <td>EU</td>\n",
       "    </tr>\n",
       "    <tr>\n",
       "      <th>4</th>\n",
       "      <td>Angola</td>\n",
       "      <td>217</td>\n",
       "      <td>57</td>\n",
       "      <td>45</td>\n",
       "      <td>5.9</td>\n",
       "      <td>AF</td>\n",
       "    </tr>\n",
       "    <tr>\n",
       "      <th>...</th>\n",
       "      <td>...</td>\n",
       "      <td>...</td>\n",
       "      <td>...</td>\n",
       "      <td>...</td>\n",
       "      <td>...</td>\n",
       "      <td>...</td>\n",
       "    </tr>\n",
       "    <tr>\n",
       "      <th>188</th>\n",
       "      <td>Venezuela</td>\n",
       "      <td>333</td>\n",
       "      <td>100</td>\n",
       "      <td>3</td>\n",
       "      <td>7.7</td>\n",
       "      <td>SA</td>\n",
       "    </tr>\n",
       "    <tr>\n",
       "      <th>189</th>\n",
       "      <td>Vietnam</td>\n",
       "      <td>111</td>\n",
       "      <td>2</td>\n",
       "      <td>1</td>\n",
       "      <td>2.0</td>\n",
       "      <td>AS</td>\n",
       "    </tr>\n",
       "    <tr>\n",
       "      <th>190</th>\n",
       "      <td>Yemen</td>\n",
       "      <td>6</td>\n",
       "      <td>0</td>\n",
       "      <td>0</td>\n",
       "      <td>0.1</td>\n",
       "      <td>AS</td>\n",
       "    </tr>\n",
       "    <tr>\n",
       "      <th>191</th>\n",
       "      <td>Zambia</td>\n",
       "      <td>32</td>\n",
       "      <td>19</td>\n",
       "      <td>4</td>\n",
       "      <td>2.5</td>\n",
       "      <td>AF</td>\n",
       "    </tr>\n",
       "    <tr>\n",
       "      <th>192</th>\n",
       "      <td>Zimbabwe</td>\n",
       "      <td>64</td>\n",
       "      <td>18</td>\n",
       "      <td>4</td>\n",
       "      <td>4.7</td>\n",
       "      <td>AF</td>\n",
       "    </tr>\n",
       "  </tbody>\n",
       "</table>\n",
       "<p>193 rows × 6 columns</p>\n",
       "</div>"
      ],
      "text/plain": [
       "         country  beer_servings  spirit_servings  wine_servings  \\\n",
       "0    Afghanistan              0                0              0   \n",
       "1        Albania             89              132             54   \n",
       "2        Algeria             25                0             14   \n",
       "3        Andorra            245              138            312   \n",
       "4         Angola            217               57             45   \n",
       "..           ...            ...              ...            ...   \n",
       "188    Venezuela            333              100              3   \n",
       "189      Vietnam            111                2              1   \n",
       "190        Yemen              6                0              0   \n",
       "191       Zambia             32               19              4   \n",
       "192     Zimbabwe             64               18              4   \n",
       "\n",
       "     total_litres_of_pure_alcohol continent  \n",
       "0                             0.0        AS  \n",
       "1                             4.9        EU  \n",
       "2                             0.7        AF  \n",
       "3                            12.4        EU  \n",
       "4                             5.9        AF  \n",
       "..                            ...       ...  \n",
       "188                           7.7        SA  \n",
       "189                           2.0        AS  \n",
       "190                           0.1        AS  \n",
       "191                           2.5        AF  \n",
       "192                           4.7        AF  \n",
       "\n",
       "[193 rows x 6 columns]"
      ]
     },
     "execution_count": 5,
     "metadata": {},
     "output_type": "execute_result"
    }
   ],
   "source": [
    "url = \"https://raw.githubusercontent.com/justmarkham/DAT8/master/data/drinks.csv\"\n",
    "s = requests.get(url).content\n",
    "drinks = pd.read_csv(io.StringIO(s.decode('utf-8')))\n",
    "drinks"
   ]
  },
  {
   "cell_type": "markdown",
   "metadata": {},
   "source": [
    "### Step 4. Which continent drinks more beer on average?"
   ]
  },
  {
   "cell_type": "code",
   "execution_count": 8,
   "metadata": {
    "ExecuteTime": {
     "end_time": "2022-11-15T16:53:47.883551Z",
     "start_time": "2022-11-15T16:53:47.869589Z"
    }
   },
   "outputs": [
    {
     "data": {
      "text/plain": [
       "170    EU\n",
       "Name: continent, dtype: object"
      ]
     },
     "execution_count": 8,
     "metadata": {},
     "output_type": "execute_result"
    }
   ],
   "source": [
    "drinks['continent'][drinks['beer_servings']== int(drinks['beer_servings'].mean())]"
   ]
  },
  {
   "cell_type": "markdown",
   "metadata": {},
   "source": [
    "### Step 5. For each continent print the statistics for wine consumption."
   ]
  },
  {
   "cell_type": "code",
   "execution_count": 39,
   "metadata": {
    "ExecuteTime": {
     "end_time": "2022-11-15T17:26:58.715035Z",
     "start_time": "2022-11-15T17:26:58.670402Z"
    }
   },
   "outputs": [
    {
     "name": "stdout",
     "output_type": "stream",
     "text": [
      "0      The country Afghanistancount    193.000000\\nme...\n",
      "1      The country Albaniacount    193.000000\\nmean  ...\n",
      "2      The country Algeriacount    193.000000\\nmean  ...\n",
      "3      The country Andorracount    193.000000\\nmean  ...\n",
      "4      The country Angolacount    193.000000\\nmean   ...\n",
      "                             ...                        \n",
      "188    The country Venezuelacount    193.000000\\nmean...\n",
      "189    The country Vietnamcount    193.000000\\nmean  ...\n",
      "190    The country Yemencount    193.000000\\nmean    ...\n",
      "191    The country Zambiacount    193.000000\\nmean   ...\n",
      "192    The country Zimbabwecount    193.000000\\nmean ...\n",
      "Name: country, Length: 193, dtype: object\n",
      "0      The country Afghanistancount    193.000000\\nme...\n",
      "1      The country Albaniacount    193.000000\\nmean  ...\n",
      "2      The country Algeriacount    193.000000\\nmean  ...\n",
      "3      The country Andorracount    193.000000\\nmean  ...\n",
      "4      The country Angolacount    193.000000\\nmean   ...\n",
      "                             ...                        \n",
      "188    The country Venezuelacount    193.000000\\nmean...\n",
      "189    The country Vietnamcount    193.000000\\nmean  ...\n",
      "190    The country Yemencount    193.000000\\nmean    ...\n",
      "191    The country Zambiacount    193.000000\\nmean   ...\n",
      "192    The country Zimbabwecount    193.000000\\nmean ...\n",
      "Name: country, Length: 193, dtype: object\n",
      "0      The country Afghanistancount    193.000000\\nme...\n",
      "1      The country Albaniacount    193.000000\\nmean  ...\n",
      "2      The country Algeriacount    193.000000\\nmean  ...\n",
      "3      The country Andorracount    193.000000\\nmean  ...\n",
      "4      The country Angolacount    193.000000\\nmean   ...\n",
      "                             ...                        \n",
      "188    The country Venezuelacount    193.000000\\nmean...\n",
      "189    The country Vietnamcount    193.000000\\nmean  ...\n",
      "190    The country Yemencount    193.000000\\nmean    ...\n",
      "191    The country Zambiacount    193.000000\\nmean   ...\n",
      "192    The country Zimbabwecount    193.000000\\nmean ...\n",
      "Name: country, Length: 193, dtype: object\n",
      "0      The country Afghanistancount    193.000000\\nme...\n",
      "1      The country Albaniacount    193.000000\\nmean  ...\n",
      "2      The country Algeriacount    193.000000\\nmean  ...\n",
      "3      The country Andorracount    193.000000\\nmean  ...\n",
      "4      The country Angolacount    193.000000\\nmean   ...\n",
      "                             ...                        \n",
      "188    The country Venezuelacount    193.000000\\nmean...\n",
      "189    The country Vietnamcount    193.000000\\nmean  ...\n",
      "190    The country Yemencount    193.000000\\nmean    ...\n",
      "191    The country Zambiacount    193.000000\\nmean   ...\n",
      "192    The country Zimbabwecount    193.000000\\nmean ...\n",
      "Name: country, Length: 193, dtype: object\n",
      "0      The country Afghanistancount    193.000000\\nme...\n",
      "1      The country Albaniacount    193.000000\\nmean  ...\n",
      "2      The country Algeriacount    193.000000\\nmean  ...\n",
      "3      The country Andorracount    193.000000\\nmean  ...\n",
      "4      The country Angolacount    193.000000\\nmean   ...\n",
      "                             ...                        \n",
      "188    The country Venezuelacount    193.000000\\nmean...\n",
      "189    The country Vietnamcount    193.000000\\nmean  ...\n",
      "190    The country Yemencount    193.000000\\nmean    ...\n",
      "191    The country Zambiacount    193.000000\\nmean   ...\n",
      "192    The country Zimbabwecount    193.000000\\nmean ...\n",
      "Name: country, Length: 193, dtype: object\n",
      "0      The country Afghanistancount    193.000000\\nme...\n",
      "1      The country Albaniacount    193.000000\\nmean  ...\n",
      "2      The country Algeriacount    193.000000\\nmean  ...\n",
      "3      The country Andorracount    193.000000\\nmean  ...\n",
      "4      The country Angolacount    193.000000\\nmean   ...\n",
      "                             ...                        \n",
      "188    The country Venezuelacount    193.000000\\nmean...\n",
      "189    The country Vietnamcount    193.000000\\nmean  ...\n",
      "190    The country Yemencount    193.000000\\nmean    ...\n",
      "191    The country Zambiacount    193.000000\\nmean   ...\n",
      "192    The country Zimbabwecount    193.000000\\nmean ...\n",
      "Name: country, Length: 193, dtype: object\n"
     ]
    }
   ],
   "source": [
    "for i in drinks:\n",
    "    print('The country ' +drinks['country'] +str(drinks['wine_servings'].describe()) + ' is  the statistics for wine consumption ')\n"
   ]
  },
  {
   "cell_type": "markdown",
   "metadata": {},
   "source": [
    "### Step 6. Print the mean alcohol consumption per continent for every column"
   ]
  },
  {
   "cell_type": "code",
   "execution_count": 45,
   "metadata": {
    "ExecuteTime": {
     "end_time": "2022-11-15T17:52:24.204775Z",
     "start_time": "2022-11-15T17:52:24.166005Z"
    }
   },
   "outputs": [
    {
     "name": "stdout",
     "output_type": "stream",
     "text": [
      "0      The continent AS4.717098445595855 is  the mean...\n",
      "1      The continent EU4.717098445595855 is  the mean...\n",
      "2      The continent AF4.717098445595855 is  the mean...\n",
      "3      The continent EU4.717098445595855 is  the mean...\n",
      "4      The continent AF4.717098445595855 is  the mean...\n",
      "                             ...                        \n",
      "188    The continent SA4.717098445595855 is  the mean...\n",
      "189    The continent AS4.717098445595855 is  the mean...\n",
      "190    The continent AS4.717098445595855 is  the mean...\n",
      "191    The continent AF4.717098445595855 is  the mean...\n",
      "192    The continent AF4.717098445595855 is  the mean...\n",
      "Name: continent, Length: 193, dtype: object\n",
      "0      The continent AS4.717098445595855 is  the mean...\n",
      "1      The continent EU4.717098445595855 is  the mean...\n",
      "2      The continent AF4.717098445595855 is  the mean...\n",
      "3      The continent EU4.717098445595855 is  the mean...\n",
      "4      The continent AF4.717098445595855 is  the mean...\n",
      "                             ...                        \n",
      "188    The continent SA4.717098445595855 is  the mean...\n",
      "189    The continent AS4.717098445595855 is  the mean...\n",
      "190    The continent AS4.717098445595855 is  the mean...\n",
      "191    The continent AF4.717098445595855 is  the mean...\n",
      "192    The continent AF4.717098445595855 is  the mean...\n",
      "Name: continent, Length: 193, dtype: object\n",
      "0      The continent AS4.717098445595855 is  the mean...\n",
      "1      The continent EU4.717098445595855 is  the mean...\n",
      "2      The continent AF4.717098445595855 is  the mean...\n",
      "3      The continent EU4.717098445595855 is  the mean...\n",
      "4      The continent AF4.717098445595855 is  the mean...\n",
      "                             ...                        \n",
      "188    The continent SA4.717098445595855 is  the mean...\n",
      "189    The continent AS4.717098445595855 is  the mean...\n",
      "190    The continent AS4.717098445595855 is  the mean...\n",
      "191    The continent AF4.717098445595855 is  the mean...\n",
      "192    The continent AF4.717098445595855 is  the mean...\n",
      "Name: continent, Length: 193, dtype: object\n",
      "0      The continent AS4.717098445595855 is  the mean...\n",
      "1      The continent EU4.717098445595855 is  the mean...\n",
      "2      The continent AF4.717098445595855 is  the mean...\n",
      "3      The continent EU4.717098445595855 is  the mean...\n",
      "4      The continent AF4.717098445595855 is  the mean...\n",
      "                             ...                        \n",
      "188    The continent SA4.717098445595855 is  the mean...\n",
      "189    The continent AS4.717098445595855 is  the mean...\n",
      "190    The continent AS4.717098445595855 is  the mean...\n",
      "191    The continent AF4.717098445595855 is  the mean...\n",
      "192    The continent AF4.717098445595855 is  the mean...\n",
      "Name: continent, Length: 193, dtype: object\n",
      "0      The continent AS4.717098445595855 is  the mean...\n",
      "1      The continent EU4.717098445595855 is  the mean...\n",
      "2      The continent AF4.717098445595855 is  the mean...\n",
      "3      The continent EU4.717098445595855 is  the mean...\n",
      "4      The continent AF4.717098445595855 is  the mean...\n",
      "                             ...                        \n",
      "188    The continent SA4.717098445595855 is  the mean...\n",
      "189    The continent AS4.717098445595855 is  the mean...\n",
      "190    The continent AS4.717098445595855 is  the mean...\n",
      "191    The continent AF4.717098445595855 is  the mean...\n",
      "192    The continent AF4.717098445595855 is  the mean...\n",
      "Name: continent, Length: 193, dtype: object\n",
      "0      The continent AS4.717098445595855 is  the mean...\n",
      "1      The continent EU4.717098445595855 is  the mean...\n",
      "2      The continent AF4.717098445595855 is  the mean...\n",
      "3      The continent EU4.717098445595855 is  the mean...\n",
      "4      The continent AF4.717098445595855 is  the mean...\n",
      "                             ...                        \n",
      "188    The continent SA4.717098445595855 is  the mean...\n",
      "189    The continent AS4.717098445595855 is  the mean...\n",
      "190    The continent AS4.717098445595855 is  the mean...\n",
      "191    The continent AF4.717098445595855 is  the mean...\n",
      "192    The continent AF4.717098445595855 is  the mean...\n",
      "Name: continent, Length: 193, dtype: object\n"
     ]
    }
   ],
   "source": [
    "for i in drinks:\n",
    "    print('The continent ' +drinks['continent'] +str(drinks['total_litres_of_pure_alcohol'].mean()) + ' is  the mean for pure alcohol consumption '+ str(drinks['spirit_servings'].mean()) + ' is  the mean for spirit consumption '+  str(drinks['wine_servings'].mean()) + ' and is  the mean for wine consumption '+ str(drinks['beer_servings'].mean()) + 'and is  the mean for beer consumption ')"
   ]
  },
  {
   "cell_type": "markdown",
   "metadata": {},
   "source": [
    "### Step 7. Print the median alcohol consumption per continent for every column"
   ]
  },
  {
   "cell_type": "code",
   "execution_count": 44,
   "metadata": {
    "ExecuteTime": {
     "end_time": "2022-11-15T17:49:42.277768Z",
     "start_time": "2022-11-15T17:49:42.224907Z"
    }
   },
   "outputs": [
    {
     "name": "stdout",
     "output_type": "stream",
     "text": [
      "0      The continent AS4.2 is  the median for pure al...\n",
      "1      The continent EU4.2 is  the median for pure al...\n",
      "2      The continent AF4.2 is  the median for pure al...\n",
      "3      The continent EU4.2 is  the median for pure al...\n",
      "4      The continent AF4.2 is  the median for pure al...\n",
      "                             ...                        \n",
      "188    The continent SA4.2 is  the median for pure al...\n",
      "189    The continent AS4.2 is  the median for pure al...\n",
      "190    The continent AS4.2 is  the median for pure al...\n",
      "191    The continent AF4.2 is  the median for pure al...\n",
      "192    The continent AF4.2 is  the median for pure al...\n",
      "Name: continent, Length: 193, dtype: object\n",
      "0      The continent AS4.2 is  the median for pure al...\n",
      "1      The continent EU4.2 is  the median for pure al...\n",
      "2      The continent AF4.2 is  the median for pure al...\n",
      "3      The continent EU4.2 is  the median for pure al...\n",
      "4      The continent AF4.2 is  the median for pure al...\n",
      "                             ...                        \n",
      "188    The continent SA4.2 is  the median for pure al...\n",
      "189    The continent AS4.2 is  the median for pure al...\n",
      "190    The continent AS4.2 is  the median for pure al...\n",
      "191    The continent AF4.2 is  the median for pure al...\n",
      "192    The continent AF4.2 is  the median for pure al...\n",
      "Name: continent, Length: 193, dtype: object\n",
      "0      The continent AS4.2 is  the median for pure al...\n",
      "1      The continent EU4.2 is  the median for pure al...\n",
      "2      The continent AF4.2 is  the median for pure al...\n",
      "3      The continent EU4.2 is  the median for pure al...\n",
      "4      The continent AF4.2 is  the median for pure al...\n",
      "                             ...                        \n",
      "188    The continent SA4.2 is  the median for pure al...\n",
      "189    The continent AS4.2 is  the median for pure al...\n",
      "190    The continent AS4.2 is  the median for pure al...\n",
      "191    The continent AF4.2 is  the median for pure al...\n",
      "192    The continent AF4.2 is  the median for pure al...\n",
      "Name: continent, Length: 193, dtype: object\n",
      "0      The continent AS4.2 is  the median for pure al...\n",
      "1      The continent EU4.2 is  the median for pure al...\n",
      "2      The continent AF4.2 is  the median for pure al...\n",
      "3      The continent EU4.2 is  the median for pure al...\n",
      "4      The continent AF4.2 is  the median for pure al...\n",
      "                             ...                        \n",
      "188    The continent SA4.2 is  the median for pure al...\n",
      "189    The continent AS4.2 is  the median for pure al...\n",
      "190    The continent AS4.2 is  the median for pure al...\n",
      "191    The continent AF4.2 is  the median for pure al...\n",
      "192    The continent AF4.2 is  the median for pure al...\n",
      "Name: continent, Length: 193, dtype: object\n",
      "0      The continent AS4.2 is  the median for pure al...\n",
      "1      The continent EU4.2 is  the median for pure al...\n",
      "2      The continent AF4.2 is  the median for pure al...\n",
      "3      The continent EU4.2 is  the median for pure al...\n",
      "4      The continent AF4.2 is  the median for pure al...\n",
      "                             ...                        \n",
      "188    The continent SA4.2 is  the median for pure al...\n",
      "189    The continent AS4.2 is  the median for pure al...\n",
      "190    The continent AS4.2 is  the median for pure al...\n",
      "191    The continent AF4.2 is  the median for pure al...\n",
      "192    The continent AF4.2 is  the median for pure al...\n",
      "Name: continent, Length: 193, dtype: object\n",
      "0      The continent AS4.2 is  the median for pure al...\n",
      "1      The continent EU4.2 is  the median for pure al...\n",
      "2      The continent AF4.2 is  the median for pure al...\n",
      "3      The continent EU4.2 is  the median for pure al...\n",
      "4      The continent AF4.2 is  the median for pure al...\n",
      "                             ...                        \n",
      "188    The continent SA4.2 is  the median for pure al...\n",
      "189    The continent AS4.2 is  the median for pure al...\n",
      "190    The continent AS4.2 is  the median for pure al...\n",
      "191    The continent AF4.2 is  the median for pure al...\n",
      "192    The continent AF4.2 is  the median for pure al...\n",
      "Name: continent, Length: 193, dtype: object\n"
     ]
    }
   ],
   "source": [
    "for i in drinks:\n",
    "    print('The continent ' +drinks['continent'] +str(drinks['total_litres_of_pure_alcohol'].median()) + ' is  the median for pure alcohol consumption '+ str(drinks['spirit_servings'].median()) + ' is  the median for spirit consumption '+  str(drinks['wine_servings'].median()) + ' and is  the median for wine consumption '+ str(drinks['beer_servings'].median()) + 'and is  the median for beer consumption ')"
   ]
  },
  {
   "cell_type": "markdown",
   "metadata": {},
   "source": [
    "### Step 8. Print the mean, min and max values for spirit consumption.\n",
    "#### This time output a DataFrame"
   ]
  },
  {
   "cell_type": "code",
   "execution_count": 46,
   "metadata": {
    "ExecuteTime": {
     "end_time": "2022-11-15T17:53:26.551398Z",
     "start_time": "2022-11-15T17:53:26.532423Z"
    }
   },
   "outputs": [
    {
     "data": {
      "text/plain": [
       "count    193.000000\n",
       "mean      80.994819\n",
       "std       88.284312\n",
       "min        0.000000\n",
       "25%        4.000000\n",
       "50%       56.000000\n",
       "75%      128.000000\n",
       "max      438.000000\n",
       "Name: spirit_servings, dtype: float64"
      ]
     },
     "execution_count": 46,
     "metadata": {},
     "output_type": "execute_result"
    }
   ],
   "source": [
    "drinks.spirit_servings.describe()"
   ]
  },
  {
   "cell_type": "code",
   "execution_count": 50,
   "metadata": {
    "ExecuteTime": {
     "end_time": "2022-11-15T17:58:57.269165Z",
     "start_time": "2022-11-15T17:58:57.260149Z"
    }
   },
   "outputs": [
    {
     "name": "stdout",
     "output_type": "stream",
     "text": [
      "the mean for spirit consumption (80.99481865284974 )and the max is (438) and the min is ( 0 )\n"
     ]
    }
   ],
   "source": [
    "print(\"the mean for spirit consumption (\"+str(drinks.spirit_servings.mean())+ \" )and the max is (\"+str(drinks.spirit_servings.max())+\") and the min is ( \"+str(drinks.spirit_servings.min())+\" )\")"
   ]
  },
  {
   "cell_type": "code",
   "execution_count": null,
   "metadata": {},
   "outputs": [],
   "source": []
  }
 ],
 "metadata": {
  "kernelspec": {
   "display_name": "Python 3 (ipykernel)",
   "language": "python",
   "name": "python3"
  },
  "language_info": {
   "codemirror_mode": {
    "name": "ipython",
    "version": 3
   },
   "file_extension": ".py",
   "mimetype": "text/x-python",
   "name": "python",
   "nbconvert_exporter": "python",
   "pygments_lexer": "ipython3",
   "version": "3.9.12"
  },
  "toc": {
   "base_numbering": 1,
   "nav_menu": {},
   "number_sections": true,
   "sideBar": true,
   "skip_h1_title": false,
   "title_cell": "Table of Contents",
   "title_sidebar": "Contents",
   "toc_cell": false,
   "toc_position": {},
   "toc_section_display": true,
   "toc_window_display": false
  },
  "varInspector": {
   "cols": {
    "lenName": 16,
    "lenType": 16,
    "lenVar": 40
   },
   "kernels_config": {
    "python": {
     "delete_cmd_postfix": "",
     "delete_cmd_prefix": "del ",
     "library": "var_list.py",
     "varRefreshCmd": "print(var_dic_list())"
    },
    "r": {
     "delete_cmd_postfix": ") ",
     "delete_cmd_prefix": "rm(",
     "library": "var_list.r",
     "varRefreshCmd": "cat(var_dic_list()) "
    }
   },
   "types_to_exclude": [
    "module",
    "function",
    "builtin_function_or_method",
    "instance",
    "_Feature"
   ],
   "window_display": false
  }
 },
 "nbformat": 4,
 "nbformat_minor": 1
}
