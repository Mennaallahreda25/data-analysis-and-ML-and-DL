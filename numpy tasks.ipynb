{
 "cells": [
  {
   "cell_type": "code",
   "execution_count": 1,
   "id": "f95a115b",
   "metadata": {
    "ExecuteTime": {
     "end_time": "2022-11-02T00:02:31.352440Z",
     "start_time": "2022-11-02T00:02:31.332496Z"
    }
   },
   "outputs": [],
   "source": [
    "#Write a NumPy program to get the numpy version and show numpy build configuration"
   ]
  },
  {
   "cell_type": "code",
   "execution_count": 2,
   "id": "77243c6d",
   "metadata": {
    "ExecuteTime": {
     "end_time": "2022-11-02T00:02:36.713215Z",
     "start_time": "2022-11-02T00:02:36.698254Z"
    }
   },
   "outputs": [
    {
     "name": "stdout",
     "output_type": "stream",
     "text": [
      "1.21.5\n",
      "blas_mkl_info:\n",
      "    libraries = ['mkl_rt']\n",
      "    library_dirs = ['C:/Users/hp/anaconda3\\\\Library\\\\lib']\n",
      "    define_macros = [('SCIPY_MKL_H', None), ('HAVE_CBLAS', None)]\n",
      "    include_dirs = ['C:/Users/hp/anaconda3\\\\Library\\\\include']\n",
      "blas_opt_info:\n",
      "    libraries = ['mkl_rt']\n",
      "    library_dirs = ['C:/Users/hp/anaconda3\\\\Library\\\\lib']\n",
      "    define_macros = [('SCIPY_MKL_H', None), ('HAVE_CBLAS', None)]\n",
      "    include_dirs = ['C:/Users/hp/anaconda3\\\\Library\\\\include']\n",
      "lapack_mkl_info:\n",
      "    libraries = ['mkl_rt']\n",
      "    library_dirs = ['C:/Users/hp/anaconda3\\\\Library\\\\lib']\n",
      "    define_macros = [('SCIPY_MKL_H', None), ('HAVE_CBLAS', None)]\n",
      "    include_dirs = ['C:/Users/hp/anaconda3\\\\Library\\\\include']\n",
      "lapack_opt_info:\n",
      "    libraries = ['mkl_rt']\n",
      "    library_dirs = ['C:/Users/hp/anaconda3\\\\Library\\\\lib']\n",
      "    define_macros = [('SCIPY_MKL_H', None), ('HAVE_CBLAS', None)]\n",
      "    include_dirs = ['C:/Users/hp/anaconda3\\\\Library\\\\include']\n",
      "Supported SIMD extensions in this NumPy install:\n",
      "    baseline = SSE,SSE2,SSE3\n",
      "    found = SSSE3,SSE41,POPCNT,SSE42,AVX,F16C,FMA3,AVX2\n",
      "    not found = AVX512F,AVX512CD,AVX512_SKX,AVX512_CLX,AVX512_CNL\n",
      "None\n"
     ]
    }
   ],
   "source": [
    "import numpy as np\n",
    "print(np.__version__)\n",
    "print(np.show_config())"
   ]
  },
  {
   "cell_type": "code",
   "execution_count": 3,
   "id": "64e02c80",
   "metadata": {
    "ExecuteTime": {
     "end_time": "2022-11-02T00:03:53.957015Z",
     "start_time": "2022-11-02T00:03:53.952029Z"
    }
   },
   "outputs": [],
   "source": [
    "#Write a NumPy program to get help on the add function."
   ]
  },
  {
   "cell_type": "code",
   "execution_count": 5,
   "id": "a34fef7c",
   "metadata": {
    "ExecuteTime": {
     "end_time": "2022-11-02T00:05:26.470442Z",
     "start_time": "2022-11-02T00:05:26.451468Z"
    }
   },
   "outputs": [
    {
     "name": "stdout",
     "output_type": "stream",
     "text": [
      "add(x1, x2, /, out=None, *, where=True, casting='same_kind', order='K', dtype=None, subok=True[, signature, extobj])\n",
      "\n",
      "Add arguments element-wise.\n",
      "\n",
      "Parameters\n",
      "----------\n",
      "x1, x2 : array_like\n",
      "    The arrays to be added.\n",
      "    If ``x1.shape != x2.shape``, they must be broadcastable to a common\n",
      "    shape (which becomes the shape of the output).\n",
      "out : ndarray, None, or tuple of ndarray and None, optional\n",
      "    A location into which the result is stored. If provided, it must have\n",
      "    a shape that the inputs broadcast to. If not provided or None,\n",
      "    a freshly-allocated array is returned. A tuple (possible only as a\n",
      "    keyword argument) must have length equal to the number of outputs.\n",
      "where : array_like, optional\n",
      "    This condition is broadcast over the input. At locations where the\n",
      "    condition is True, the `out` array will be set to the ufunc result.\n",
      "    Elsewhere, the `out` array will retain its original value.\n",
      "    Note that if an uninitialized `out` array is created via the default\n",
      "    ``out=None``, locations within it where the condition is False will\n",
      "    remain uninitialized.\n",
      "**kwargs\n",
      "    For other keyword-only arguments, see the\n",
      "    :ref:`ufunc docs <ufuncs.kwargs>`.\n",
      "\n",
      "Returns\n",
      "-------\n",
      "add : ndarray or scalar\n",
      "    The sum of `x1` and `x2`, element-wise.\n",
      "    This is a scalar if both `x1` and `x2` are scalars.\n",
      "\n",
      "Notes\n",
      "-----\n",
      "Equivalent to `x1` + `x2` in terms of array broadcasting.\n",
      "\n",
      "Examples\n",
      "--------\n",
      ">>> np.add(1.0, 4.0)\n",
      "5.0\n",
      ">>> x1 = np.arange(9.0).reshape((3, 3))\n",
      ">>> x2 = np.arange(3.0)\n",
      ">>> np.add(x1, x2)\n",
      "array([[  0.,   2.,   4.],\n",
      "       [  3.,   5.,   7.],\n",
      "       [  6.,   8.,  10.]])\n",
      "\n",
      "The ``+`` operator can be used as a shorthand for ``np.add`` on ndarrays.\n",
      "\n",
      ">>> x1 = np.arange(9.0).reshape((3, 3))\n",
      ">>> x2 = np.arange(3.0)\n",
      ">>> x1 + x2\n",
      "array([[ 0.,  2.,  4.],\n",
      "       [ 3.,  5.,  7.],\n",
      "       [ 6.,  8., 10.]])\n",
      "None\n"
     ]
    }
   ],
   "source": [
    "import numpy as np\n",
    "print(np.info(np.add))\n",
    "#or we can use ?\n",
    "np.add?\n"
   ]
  },
  {
   "cell_type": "code",
   "execution_count": null,
   "id": "d146d007",
   "metadata": {},
   "outputs": [],
   "source": [
    "#Write a NumPy program to swap rows and columns of a given array in reverse order"
   ]
  },
  {
   "cell_type": "code",
   "execution_count": 6,
   "id": "02d7441c",
   "metadata": {
    "ExecuteTime": {
     "end_time": "2022-11-02T00:16:13.197888Z",
     "start_time": "2022-11-02T00:16:13.056885Z"
    }
   },
   "outputs": [
    {
     "name": "stdout",
     "output_type": "stream",
     "text": [
      "[[[ 1  2  3  4]\n",
      "  [ 0  1  3  4]\n",
      "  [90 91 93 94]\n",
      "  [ 5  0  3  2]]]\n",
      "[[[ 5  0  3  2]\n",
      "  [90 91 93 94]\n",
      "  [ 0  1  3  4]\n",
      "  [ 1  2  3  4]]]\n"
     ]
    }
   ],
   "source": [
    "import numpy as np\n",
    "nums = np.array([[[1, 2, 3, 4],\n",
    "               [0, 1, 3, 4],\n",
    "               [90, 91, 93, 94],\n",
    "               [5, 0, 3, 2]]])\n",
    "\n",
    "print(nums)\n",
    "print(nums[::-1, ::-1])\n"
   ]
  },
  {
   "cell_type": "code",
   "execution_count": null,
   "id": "12fbaa98",
   "metadata": {},
   "outputs": [],
   "source": [
    "#Write a NumPy program to create a three-dimension array with shape (3,5,4) and set to a variable."
   ]
  },
  {
   "cell_type": "code",
   "execution_count": 7,
   "id": "61cfdc67",
   "metadata": {
    "ExecuteTime": {
     "end_time": "2022-11-02T00:36:22.375148Z",
     "start_time": "2022-11-02T00:36:22.361185Z"
    }
   },
   "outputs": [
    {
     "name": "stdout",
     "output_type": "stream",
     "text": [
      "Array:\n",
      "[[[1 2 3 4]\n",
      "  [5 6 7 8]\n",
      "  [9 2 1 3]\n",
      "  [7 3 4 0]\n",
      "  [2 0 3 0]]\n",
      "\n",
      " [[2 2 3 1]\n",
      "  [4 0 0 5]\n",
      "  [6 3 2 1]\n",
      "  [5 1 0 0]\n",
      "  [0 1 9 1]]\n",
      "\n",
      " [[3 1 4 2]\n",
      "  [4 1 6 0]\n",
      "  [1 2 0 6]\n",
      "  [8 3 4 0]\n",
      "  [2 0 2 8]]]\n"
     ]
    }
   ],
   "source": [
    "import numpy as np  \n",
    "numbers = np.array([[[1, 2, 3, 4],\n",
    "               [5, 6, 7, 8],\n",
    "               [9, 2, 1, 3],\n",
    "               [7, 3, 4, 0],\n",
    "               [2, 0, 3, 0]],\n",
    "              \n",
    "              [[2, 2, 3, 1],\n",
    "               [4, 0, 0, 5],\n",
    "               [6, 3, 2, 1],\n",
    "               [5, 1, 0, 0],               \n",
    "               [0, 1, 9, 1]],\n",
    "              \n",
    "              [[3, 1, 4, 2],\n",
    "               [4, 1, 6, 0],\n",
    "               [1, 2, 0, 6],\n",
    "               [8, 3, 4, 0],               \n",
    "               [2, 0, 2, 8]]]) \n",
    "print(\"Array:\")\n",
    "print(numbers)"
   ]
  },
  {
   "cell_type": "code",
   "execution_count": 8,
   "id": "5d42e4ed",
   "metadata": {
    "ExecuteTime": {
     "end_time": "2022-11-02T00:37:06.522721Z",
     "start_time": "2022-11-02T00:37:06.506763Z"
    }
   },
   "outputs": [],
   "source": [
    "#Write a NumPy program to multiply two given arrays of same size element-by-element."
   ]
  },
  {
   "cell_type": "code",
   "execution_count": 9,
   "id": "ff219071",
   "metadata": {
    "ExecuteTime": {
     "end_time": "2022-11-02T00:40:33.595555Z",
     "start_time": "2022-11-02T00:40:33.430488Z"
    }
   },
   "outputs": [
    {
     "name": "stdout",
     "output_type": "stream",
     "text": [
      "\n",
      "Multiply said arrays of same size element-by-element: [[16 18  1]\n",
      " [12  0  0]]\n"
     ]
    }
   ],
   "source": [
    "import numpy as np \n",
    "nums1 = np.array([[2, 2, 1],\n",
    "               [4, 0, 0]])\n",
    "nums2 = np.array([[8, 9, 1],\n",
    "              [3, 2, 4]])\n",
    "\n",
    "print(\"\\nMultiply said arrays of same size element-by-element:\", np.multiply(nums1, nums2))"
   ]
  },
  {
   "cell_type": "code",
   "execution_count": 10,
   "id": "cafcc6bf",
   "metadata": {
    "ExecuteTime": {
     "end_time": "2022-11-02T00:41:13.158892Z",
     "start_time": "2022-11-02T00:41:13.142900Z"
    }
   },
   "outputs": [],
   "source": [
    "#Write a NumPy program to test element-wise for NaN of a given array."
   ]
  },
  {
   "cell_type": "code",
   "execution_count": 13,
   "id": "12f9ebbf",
   "metadata": {
    "ExecuteTime": {
     "end_time": "2022-11-02T00:51:31.237057Z",
     "start_time": "2022-11-02T00:51:31.220120Z"
    }
   },
   "outputs": [
    {
     "name": "stdout",
     "output_type": "stream",
     "text": [
      "Test element-wise for NaN:\n",
      "[False False  True]\n"
     ]
    }
   ],
   "source": [
    "import numpy as np\n",
    "a = np.array([1, 0, np.nan])\n",
    "print(\"Test element-wise for NaN:\")\n",
    "print(np.isnan(a))"
   ]
  },
  {
   "cell_type": "code",
   "execution_count": 17,
   "id": "80687334",
   "metadata": {
    "ExecuteTime": {
     "end_time": "2022-11-02T00:59:45.380879Z",
     "start_time": "2022-11-02T00:59:45.370931Z"
    }
   },
   "outputs": [],
   "source": [
    "#Write a NumPy program to test element-wise for positive or negative infinity."
   ]
  },
  {
   "cell_type": "code",
   "execution_count": 18,
   "id": "8e29dcd4",
   "metadata": {
    "ExecuteTime": {
     "end_time": "2022-11-02T00:59:46.613259Z",
     "start_time": "2022-11-02T00:59:46.600292Z"
    }
   },
   "outputs": [
    {
     "name": "stdout",
     "output_type": "stream",
     "text": [
      "Original array\n",
      "[ 1.  0. nan inf]\n",
      "Test element-wise for positive or negative infinity:\n",
      "[False False False  True]\n"
     ]
    }
   ],
   "source": [
    "import numpy as np\n",
    "a = np.array([1, 0, np.nan, np.inf])\n",
    "print(\"Original array\")\n",
    "print(a)\n",
    "print(\"Test element-wise for positive or negative infinity:\")\n",
    "print(np.isinf(a))"
   ]
  },
  {
   "cell_type": "code",
   "execution_count": 19,
   "id": "e8ff9525",
   "metadata": {
    "ExecuteTime": {
     "end_time": "2022-11-02T01:03:37.108970Z",
     "start_time": "2022-11-02T01:03:37.098002Z"
    }
   },
   "outputs": [],
   "source": [
    "#Write a NumPy program to test a given array element-wise for finiteness (not infinity or not a Number)."
   ]
  },
  {
   "cell_type": "code",
   "execution_count": 20,
   "id": "0b4f073b",
   "metadata": {
    "ExecuteTime": {
     "end_time": "2022-11-02T01:03:38.092363Z",
     "start_time": "2022-11-02T01:03:38.071413Z"
    }
   },
   "outputs": [
    {
     "name": "stdout",
     "output_type": "stream",
     "text": [
      "Original array\n",
      "[ 1.  0. nan inf]\n",
      "Test a given array element-wise for finiteness :\n",
      "[ True  True False False]\n"
     ]
    }
   ],
   "source": [
    "import numpy as np\n",
    "a = np.array([1, 0, np.nan, np.inf])\n",
    "print(\"Original array\")\n",
    "print(a)\n",
    "print(\"Test a given array element-wise for finiteness :\")\n",
    "print(np.isfinite(a))"
   ]
  },
  {
   "cell_type": "code",
   "execution_count": 21,
   "id": "e236ca44",
   "metadata": {
    "ExecuteTime": {
     "end_time": "2022-11-02T01:07:26.132043Z",
     "start_time": "2022-11-02T01:07:26.119078Z"
    }
   },
   "outputs": [],
   "source": [
    "#Write a NumPy program to test whether any of the elements of a given array is non-zero."
   ]
  },
  {
   "cell_type": "code",
   "execution_count": 22,
   "id": "8541b685",
   "metadata": {
    "ExecuteTime": {
     "end_time": "2022-11-02T01:07:27.218514Z",
     "start_time": "2022-11-02T01:07:27.197569Z"
    }
   },
   "outputs": [
    {
     "name": "stdout",
     "output_type": "stream",
     "text": [
      "Original array:\n",
      "[1 0 0 0]\n",
      "Test whether any of the elements of a given array is non-zero:\n",
      "True\n",
      "Original array:\n",
      "[0 0 0 0]\n",
      "Test whether any of the elements of a given array is non-zero:\n",
      "False\n"
     ]
    }
   ],
   "source": [
    "import numpy as np\n",
    "x = np.array([1, 0, 0, 0])\n",
    "print(\"Original array:\")\n",
    "print(x)\n",
    "print(\"Test whether any of the elements of a given array is non-zero:\")\n",
    "print(np.any(x))\n",
    "x = np.array([0, 0, 0, 0])\n",
    "print(\"Original array:\")\n",
    "print(x)\n",
    "print(\"Test whether any of the elements of a given array is non-zero:\")\n",
    "print(np.any(x))"
   ]
  },
  {
   "cell_type": "code",
   "execution_count": 23,
   "id": "47a92b04",
   "metadata": {
    "ExecuteTime": {
     "end_time": "2022-11-02T01:08:26.316843Z",
     "start_time": "2022-11-02T01:08:26.313844Z"
    }
   },
   "outputs": [],
   "source": [
    "#Write a NumPy program to test whether none of the elements of a given array is zero."
   ]
  },
  {
   "cell_type": "code",
   "execution_count": 24,
   "id": "d922ecf0",
   "metadata": {
    "ExecuteTime": {
     "end_time": "2022-11-02T01:08:29.067752Z",
     "start_time": "2022-11-02T01:08:29.054788Z"
    }
   },
   "outputs": [
    {
     "name": "stdout",
     "output_type": "stream",
     "text": [
      "Original array:\n",
      "[1 2 3 4]\n",
      "Test if none of the elements of the said array is zero:\n",
      "True\n",
      "Original array:\n",
      "[0 1 2 3]\n",
      "Test if none of the elements of the said array is zero:\n",
      "False\n"
     ]
    }
   ],
   "source": [
    "import numpy as np\n",
    "x = np.array([1, 2, 3, 4])\n",
    "print(\"Original array:\")\n",
    "print(x)\n",
    "print(\"Test if none of the elements of the said array is zero:\")\n",
    "print(np.all(x))\n",
    "x = np.array([0, 1, 2, 3])\n",
    "print(\"Original array:\")\n",
    "print(x)\n",
    "print(\"Test if none of the elements of the said array is zero:\")\n",
    "print(np.all(x))"
   ]
  },
  {
   "cell_type": "code",
   "execution_count": 25,
   "id": "09c13b61",
   "metadata": {
    "ExecuteTime": {
     "end_time": "2022-11-02T01:18:21.895783Z",
     "start_time": "2022-11-02T01:18:21.877859Z"
    }
   },
   "outputs": [],
   "source": [
    "#Write a NumPy program to convert a list of numeric value into a one-dimensional NumPy array."
   ]
  },
  {
   "cell_type": "code",
   "execution_count": 29,
   "id": "af803c0e",
   "metadata": {
    "ExecuteTime": {
     "end_time": "2022-11-02T01:24:34.217572Z",
     "start_time": "2022-11-02T01:24:34.200587Z"
    }
   },
   "outputs": [
    {
     "name": "stdout",
     "output_type": "stream",
     "text": [
      "[11 12 13 14]\n"
     ]
    },
    {
     "data": {
      "text/plain": [
       "numpy.ndarray"
      ]
     },
     "execution_count": 29,
     "metadata": {},
     "output_type": "execute_result"
    }
   ],
   "source": [
    "l = [11, 12 , 13, 14]\n",
    "array1 = np.array(l)\n",
    "print(array1)\n",
    "type(array1)"
   ]
  },
  {
   "cell_type": "code",
   "execution_count": 28,
   "id": "31201c8a",
   "metadata": {
    "ExecuteTime": {
     "end_time": "2022-11-02T01:21:51.587215Z",
     "start_time": "2022-11-02T01:21:51.582229Z"
    }
   },
   "outputs": [],
   "source": [
    "#Write a NumPy program to create a 3x3 matrix with values ranging from 2 to 10."
   ]
  },
  {
   "cell_type": "code",
   "execution_count": 30,
   "id": "cc6bae83",
   "metadata": {
    "ExecuteTime": {
     "end_time": "2022-11-02T01:26:27.390770Z",
     "start_time": "2022-11-02T01:26:27.333913Z"
    }
   },
   "outputs": [
    {
     "name": "stdout",
     "output_type": "stream",
     "text": [
      "[[ 2  3  4]\n",
      " [ 5  6  7]\n",
      " [ 8  9 10]]\n"
     ]
    }
   ],
   "source": [
    "x =  np.arange(2, 11).reshape(3,3)\n",
    "print(x)"
   ]
  },
  {
   "cell_type": "code",
   "execution_count": 31,
   "id": "96119809",
   "metadata": {
    "ExecuteTime": {
     "end_time": "2022-11-02T01:30:59.192480Z",
     "start_time": "2022-11-02T01:30:59.183503Z"
    }
   },
   "outputs": [],
   "source": [
    "#Write a NumPy program to create a null vector of size 10 and update sixth value to 11"
   ]
  },
  {
   "cell_type": "code",
   "execution_count": 32,
   "id": "a9ab3494",
   "metadata": {
    "ExecuteTime": {
     "end_time": "2022-11-02T01:31:25.145078Z",
     "start_time": "2022-11-02T01:31:25.126130Z"
    }
   },
   "outputs": [
    {
     "name": "stdout",
     "output_type": "stream",
     "text": [
      "[0. 0. 0. 0. 0. 0. 0. 0. 0. 0.]\n",
      "Update sixth value to 11\n",
      "[ 0.  0.  0.  0.  0.  0. 11.  0.  0.  0.]\n"
     ]
    }
   ],
   "source": [
    "import numpy as np\n",
    "x = np.zeros(10)\n",
    "print(x)\n",
    "print(\"Update sixth value to 11\")\n",
    "x[6] = 11\n",
    "print(x)"
   ]
  },
  {
   "cell_type": "code",
   "execution_count": 33,
   "id": "cc2020ca",
   "metadata": {
    "ExecuteTime": {
     "end_time": "2022-11-02T01:34:41.680200Z",
     "start_time": "2022-11-02T01:34:41.664244Z"
    }
   },
   "outputs": [],
   "source": [
    "#Write a NumPy program to create an array with values ranging from 12 to 38."
   ]
  },
  {
   "cell_type": "code",
   "execution_count": 35,
   "id": "a2d09184",
   "metadata": {
    "ExecuteTime": {
     "end_time": "2022-11-02T01:36:55.062205Z",
     "start_time": "2022-11-02T01:36:55.048238Z"
    }
   },
   "outputs": [
    {
     "name": "stdout",
     "output_type": "stream",
     "text": [
      "[12 13 14 15 16 17 18 19 20 21 22 23 24 25 26 27 28 29 30 31 32 33 34 35\n",
      " 36 37]\n"
     ]
    }
   ],
   "source": [
    "x = np.arange(12, 38)\n",
    "print(x)"
   ]
  },
  {
   "cell_type": "code",
   "execution_count": 36,
   "id": "8b7d19a0",
   "metadata": {
    "ExecuteTime": {
     "end_time": "2022-11-02T01:48:17.629647Z",
     "start_time": "2022-11-02T01:48:17.615682Z"
    }
   },
   "outputs": [],
   "source": [
    "#Write a NumPy program to reverse an array (first element becomes last)."
   ]
  },
  {
   "cell_type": "code",
   "execution_count": 37,
   "id": "74864d74",
   "metadata": {
    "ExecuteTime": {
     "end_time": "2022-11-02T01:49:12.210556Z",
     "start_time": "2022-11-02T01:49:12.195564Z"
    }
   },
   "outputs": [
    {
     "name": "stdout",
     "output_type": "stream",
     "text": [
      "[37 36 35 34 33 32 31 30 29 28 27 26 25 24 23 22 21 20 19 18 17 16 15 14\n",
      " 13 12]\n"
     ]
    }
   ],
   "source": [
    "x = x[::-1]\n",
    "print(x)"
   ]
  },
  {
   "cell_type": "code",
   "execution_count": null,
   "id": "fe2d5722",
   "metadata": {},
   "outputs": [],
   "source": [
    "#Write a NumPy program to convert an array to a float type"
   ]
  },
  {
   "cell_type": "code",
   "execution_count": 46,
   "id": "944c6f91",
   "metadata": {
    "ExecuteTime": {
     "end_time": "2022-11-02T02:10:50.162439Z",
     "start_time": "2022-11-02T02:10:50.150472Z"
    }
   },
   "outputs": [
    {
     "name": "stdout",
     "output_type": "stream",
     "text": [
      "Original array\n",
      "[1 9 2 3 4]\n",
      "float64\n",
      "[1. 9. 2. 3. 4.]\n"
     ]
    },
    {
     "data": {
      "text/plain": [
       "'x = np.asfarray(a)\\nprint(\"Array converted to a float type:\")\\nprint(x)'"
      ]
     },
     "execution_count": 46,
     "metadata": {},
     "output_type": "execute_result"
    }
   ],
   "source": [
    "a = np.array([1,9, 2, 3, 4])\n",
    "print(\"Original array\")\n",
    "print(a)\n",
    "a = a.astype(float)\n",
    "print(a.dtype)\n",
    "print(a)\n"
   ]
  },
  {
   "cell_type": "code",
   "execution_count": 51,
   "id": "d27742c2",
   "metadata": {
    "ExecuteTime": {
     "end_time": "2022-11-02T02:12:57.899522Z",
     "start_time": "2022-11-02T02:12:57.891553Z"
    }
   },
   "outputs": [
    {
     "name": "stdout",
     "output_type": "stream",
     "text": [
      "Original array\n",
      "[1 9 2 3 4]\n",
      "Array converted to a float type:\n",
      "[1. 9. 2. 3. 4.]\n"
     ]
    }
   ],
   "source": [
    "#another way \n",
    "a = np.array([1,9, 2, 3, 4])\n",
    "print(\"Original array\")\n",
    "print(a)\n",
    "x = np.asfarray(a)\n",
    "print(\"Array converted to a float type:\")\n",
    "print(x)"
   ]
  },
  {
   "cell_type": "code",
   "execution_count": null,
   "id": "c1a4c9a4",
   "metadata": {},
   "outputs": [],
   "source": [
    "# Write a NumPy program to create a 2d array with 1 on the border and 0 inside."
   ]
  },
  {
   "cell_type": "code",
   "execution_count": 52,
   "id": "68b94cda",
   "metadata": {
    "ExecuteTime": {
     "end_time": "2022-11-02T02:15:10.637957Z",
     "start_time": "2022-11-02T02:15:10.614994Z"
    }
   },
   "outputs": [
    {
     "name": "stdout",
     "output_type": "stream",
     "text": [
      "Original array:\n",
      "[[1. 1. 1. 1. 1.]\n",
      " [1. 1. 1. 1. 1.]\n",
      " [1. 1. 1. 1. 1.]\n",
      " [1. 1. 1. 1. 1.]\n",
      " [1. 1. 1. 1. 1.]]\n",
      "1 on the border and 0 inside in the array\n",
      "[[1. 1. 1. 1. 1.]\n",
      " [1. 0. 0. 0. 1.]\n",
      " [1. 0. 0. 0. 1.]\n",
      " [1. 0. 0. 0. 1.]\n",
      " [1. 1. 1. 1. 1.]]\n"
     ]
    }
   ],
   "source": [
    "import numpy as np\n",
    "x = np.ones((5,5))\n",
    "print(\"Original array:\")\n",
    "print(x)\n",
    "print(\"1 on the border and 0 inside in the array\")\n",
    "x[1:-1,1:-1] = 0\n",
    "print(x)\n"
   ]
  },
  {
   "cell_type": "code",
   "execution_count": null,
   "id": "bc69aaf6",
   "metadata": {},
   "outputs": [],
   "source": [
    "#Write a NumPy program to add a border (filled with 0's) around an existing array."
   ]
  },
  {
   "cell_type": "code",
   "execution_count": 53,
   "id": "51cabfcf",
   "metadata": {
    "ExecuteTime": {
     "end_time": "2022-11-02T02:16:42.843578Z",
     "start_time": "2022-11-02T02:16:42.760098Z"
    }
   },
   "outputs": [
    {
     "name": "stdout",
     "output_type": "stream",
     "text": [
      "Original array:\n",
      "[[1. 1. 1.]\n",
      " [1. 1. 1.]\n",
      " [1. 1. 1.]]\n",
      "0 on the border and 1 inside in the array\n",
      "[[0. 0. 0. 0. 0.]\n",
      " [0. 1. 1. 1. 0.]\n",
      " [0. 1. 1. 1. 0.]\n",
      " [0. 1. 1. 1. 0.]\n",
      " [0. 0. 0. 0. 0.]]\n"
     ]
    }
   ],
   "source": [
    "import numpy as np\n",
    "x = np.ones((3,3))\n",
    "print(\"Original array:\")\n",
    "print(x)\n",
    "print(\"0 on the border and 1 inside in the array\")\n",
    "x = np.pad(x, pad_width=1, mode='constant', constant_values=0)\n",
    "print(x)"
   ]
  },
  {
   "cell_type": "code",
   "execution_count": 54,
   "id": "21fd586d",
   "metadata": {
    "ExecuteTime": {
     "end_time": "2022-11-02T02:17:42.283249Z",
     "start_time": "2022-11-02T02:17:42.273276Z"
    }
   },
   "outputs": [],
   "source": [
    "#Write a NumPy program to create a 8x8 matrix and fill it with a checkerboard pattern."
   ]
  },
  {
   "cell_type": "code",
   "execution_count": 61,
   "id": "f77eab0c",
   "metadata": {
    "ExecuteTime": {
     "end_time": "2022-11-02T02:21:10.108057Z",
     "start_time": "2022-11-02T02:21:10.097087Z"
    }
   },
   "outputs": [
    {
     "name": "stdout",
     "output_type": "stream",
     "text": [
      "Checkerboard pattern:\n",
      "[[0 1 0 1 0 1 0 1]\n",
      " [1 0 1 0 1 0 1 0]\n",
      " [0 1 0 1 0 1 0 1]\n",
      " [1 0 1 0 1 0 1 0]\n",
      " [0 1 0 1 0 1 0 1]\n",
      " [1 0 1 0 1 0 1 0]\n",
      " [0 1 0 1 0 1 0 1]\n",
      " [1 0 1 0 1 0 1 0]]\n"
     ]
    }
   ],
   "source": [
    "import numpy as np\n",
    "print(\"Checkerboard pattern:\")\n",
    "x = np.zeros((8,8),dtype=int)\n",
    "x[1::2,::2] = 1\n",
    "x[::2,1::2] = 1\n",
    "print(x)"
   ]
  },
  {
   "cell_type": "code",
   "execution_count": 62,
   "id": "5e608c0c",
   "metadata": {
    "ExecuteTime": {
     "end_time": "2022-11-02T03:25:31.095654Z",
     "start_time": "2022-11-02T03:25:30.998857Z"
    }
   },
   "outputs": [
    {
     "data": {
      "text/plain": [
       "'Write a NumPy program to compute the multiplication of two given matrixes.\\n\\nSample Matrix:\\n\\n[[1, 0], [0, 1]]\\n[[1, 2], [3, 4]]'"
      ]
     },
     "execution_count": 62,
     "metadata": {},
     "output_type": "execute_result"
    }
   ],
   "source": [
    "'''Write a NumPy program to compute the multiplication of two given matrixes.\n",
    "\n",
    "Sample Matrix:\n",
    "\n",
    "[[1, 0], [0, 1]]\n",
    "[[1, 2], [3, 4]]'''"
   ]
  },
  {
   "cell_type": "code",
   "execution_count": 64,
   "id": "7bf5b1e5",
   "metadata": {
    "ExecuteTime": {
     "end_time": "2022-11-02T03:26:57.573222Z",
     "start_time": "2022-11-02T03:26:57.563277Z"
    }
   },
   "outputs": [
    {
     "name": "stdout",
     "output_type": "stream",
     "text": [
      "Result of the said matrix multiplication:\n",
      "[[1 2]\n",
      " [3 4]]\n"
     ]
    }
   ],
   "source": [
    "import numpy as np\n",
    "p = [[1, 0], [0, 1]]\n",
    "q = [[1, 2], [3, 4]]\n",
    "result1 = np.dot(p, q)\n",
    "print(\"Result of the said matrix multiplication:\")\n",
    "print(result1)"
   ]
  },
  {
   "cell_type": "code",
   "execution_count": 65,
   "id": "63246224",
   "metadata": {
    "ExecuteTime": {
     "end_time": "2022-11-02T03:29:05.967578Z",
     "start_time": "2022-11-02T03:29:05.948790Z"
    }
   },
   "outputs": [],
   "source": [
    "#Write a NumPy program to compute the determinant of a given square array."
   ]
  },
  {
   "cell_type": "code",
   "execution_count": 66,
   "id": "218906db",
   "metadata": {
    "ExecuteTime": {
     "end_time": "2022-11-02T03:32:20.986090Z",
     "start_time": "2022-11-02T03:32:20.334171Z"
    }
   },
   "outputs": [
    {
     "name": "stdout",
     "output_type": "stream",
     "text": [
      "Original 2-d array\n",
      "[[1 2]\n",
      " [4 2]]\n",
      "Determinant of the said 2-D array:\n",
      "-6.0\n"
     ]
    }
   ],
   "source": [
    "import numpy as np\n",
    "a = np.array([[1, 2], [4, 2]])\n",
    "print(\"Original 2-d array\")\n",
    "print(a)\n",
    "print(\"Determinant of the said 2-D array:\")\n",
    "print(np.linalg.det(a))"
   ]
  },
  {
   "cell_type": "code",
   "execution_count": 68,
   "id": "33a0bf15",
   "metadata": {
    "ExecuteTime": {
     "end_time": "2022-11-02T03:35:12.925125Z",
     "start_time": "2022-11-02T03:35:12.915149Z"
    }
   },
   "outputs": [],
   "source": [
    "#Write a NumPy program to compute the outer product of two given vectors."
   ]
  },
  {
   "cell_type": "code",
   "execution_count": 67,
   "id": "6a0320b1",
   "metadata": {
    "ExecuteTime": {
     "end_time": "2022-11-02T03:34:43.633293Z",
     "start_time": "2022-11-02T03:34:43.555497Z"
    }
   },
   "outputs": [
    {
     "name": "stdout",
     "output_type": "stream",
     "text": [
      "Outer product of the said two vectors:\n",
      "[[1 2 3 4]\n",
      " [0 0 0 0]\n",
      " [0 0 0 0]\n",
      " [1 2 3 4]]\n"
     ]
    }
   ],
   "source": [
    "result = np.outer(p, q)\n",
    "print(\"Outer product of the said two vectors:\")\n",
    "print(result)"
   ]
  },
  {
   "cell_type": "code",
   "execution_count": 69,
   "id": "13610ea8",
   "metadata": {
    "ExecuteTime": {
     "end_time": "2022-11-02T03:37:00.238030Z",
     "start_time": "2022-11-02T03:37:00.225186Z"
    }
   },
   "outputs": [],
   "source": [
    "#Write a NumPy program to compute the inverse of a given matrix."
   ]
  },
  {
   "cell_type": "code",
   "execution_count": 71,
   "id": "3ee6d225",
   "metadata": {
    "ExecuteTime": {
     "end_time": "2022-11-02T03:38:43.372985Z",
     "start_time": "2022-11-02T03:38:43.352000Z"
    }
   },
   "outputs": [
    {
     "name": "stdout",
     "output_type": "stream",
     "text": [
      "Inverse of the said matrix:\n",
      "[[-2.   1. ]\n",
      " [ 1.5 -0.5]]\n"
     ]
    }
   ],
   "source": [
    "result =  np.linalg.inv(q)\n",
    "print(\"Inverse of the said matrix:\")\n",
    "print(result)"
   ]
  },
  {
   "cell_type": "code",
   "execution_count": 72,
   "id": "b4cf79cf",
   "metadata": {
    "ExecuteTime": {
     "end_time": "2022-11-02T03:39:34.812260Z",
     "start_time": "2022-11-02T03:39:34.802387Z"
    }
   },
   "outputs": [],
   "source": [
    "#Write a NumPy program to compute the sum of the diagonal element of a given array."
   ]
  },
  {
   "cell_type": "code",
   "execution_count": 74,
   "id": "e99113fe",
   "metadata": {
    "ExecuteTime": {
     "end_time": "2022-11-02T03:44:19.210047Z",
     "start_time": "2022-11-02T03:44:19.018926Z"
    }
   },
   "outputs": [
    {
     "name": "stdout",
     "output_type": "stream",
     "text": [
      "Condition number of the said matrix:\n",
      "2.3325922068821336\n"
     ]
    }
   ],
   "source": [
    "arr = np.random.rand(5,5)\n",
    "result2 =  np.trace(arr)\n",
    "print(\"Condition number of the said matrix:\")\n",
    "print(result2)"
   ]
  },
  {
   "cell_type": "code",
   "execution_count": 75,
   "id": "3ca2964f",
   "metadata": {
    "ExecuteTime": {
     "end_time": "2022-11-02T03:50:23.661890Z",
     "start_time": "2022-11-02T03:50:23.646925Z"
    }
   },
   "outputs": [],
   "source": [
    "#Write a NumPy program to check two random arrays are equal or not."
   ]
  },
  {
   "cell_type": "code",
   "execution_count": 76,
   "id": "c7a441f3",
   "metadata": {
    "ExecuteTime": {
     "end_time": "2022-11-02T03:54:20.239913Z",
     "start_time": "2022-11-02T03:54:19.211933Z"
    }
   },
   "outputs": [
    {
     "name": "stdout",
     "output_type": "stream",
     "text": [
      "First array:\n",
      "[0 1 1 0 0 0]\n",
      "Second array:\n",
      "[1 1 1 0 1 0]\n",
      "Test above two arrays are equal or not!\n",
      "False\n"
     ]
    }
   ],
   "source": [
    "import numpy as np\n",
    "x = np.random.randint(0,2,6)\n",
    "print(\"First array:\")\n",
    "print(x)\n",
    "y = np.random.randint(0,2,6)\n",
    "print(\"Second array:\")\n",
    "print(y)\n",
    "print(\"Test above two arrays are equal or not!\")\n",
    "array_equal = np.allclose(x, y)\n",
    "print(array_equal)"
   ]
  },
  {
   "cell_type": "code",
   "execution_count": 81,
   "id": "3e54e7de",
   "metadata": {
    "ExecuteTime": {
     "end_time": "2022-11-02T03:57:24.717469Z",
     "start_time": "2022-11-02T03:57:24.692535Z"
    }
   },
   "outputs": [
    {
     "name": "stdout",
     "output_type": "stream",
     "text": [
      "First array:\n",
      "[[0.69557248 0.63757767 0.35405555 0.73381048 0.33761707]]\n",
      "Second array:\n",
      "[[0.95407071 0.1117667  0.15024656 0.57539131 0.91530709]]\n",
      "Test above two arrays are equal or not!\n",
      "False\n"
     ]
    }
   ],
   "source": [
    "#another way\n",
    "import numpy as np\n",
    "x = np.random.rand(1,5)\n",
    "print(\"First array:\")\n",
    "print(x)\n",
    "y = np.random.rand(1,5)\n",
    "print(\"Second array:\")\n",
    "print(y)\n",
    "print(\"Test above two arrays are equal or not!\")\n",
    "array_equal = np.allclose(x, y)\n",
    "print(array_equal)"
   ]
  },
  {
   "cell_type": "code",
   "execution_count": 82,
   "id": "587be7b5",
   "metadata": {
    "ExecuteTime": {
     "end_time": "2022-11-02T03:59:09.187814Z",
     "start_time": "2022-11-02T03:59:09.182828Z"
    }
   },
   "outputs": [],
   "source": [
    "#Write a NumPy program to generate five random numbers from the normal distribution."
   ]
  },
  {
   "cell_type": "code",
   "execution_count": 83,
   "id": "3becaee5",
   "metadata": {
    "ExecuteTime": {
     "end_time": "2022-11-02T03:59:24.386456Z",
     "start_time": "2022-11-02T03:59:24.277747Z"
    }
   },
   "outputs": [
    {
     "name": "stdout",
     "output_type": "stream",
     "text": [
      "[-0.05648438 -0.57607359 -0.99918594  0.23660841 -0.13632628]\n"
     ]
    }
   ],
   "source": [
    "import numpy as np\n",
    "x = np.random.normal(size=5)\n",
    "print(x)"
   ]
  },
  {
   "cell_type": "code",
   "execution_count": 84,
   "id": "cc196dc7",
   "metadata": {
    "ExecuteTime": {
     "end_time": "2022-11-02T04:00:07.100671Z",
     "start_time": "2022-11-02T04:00:07.081718Z"
    }
   },
   "outputs": [
    {
     "name": "stdout",
     "output_type": "stream",
     "text": [
      "[[ 1.53417272  1.75105538 -2.01869068]\n",
      " [ 0.06973804  0.52014256  1.94699687]\n",
      " [-0.26123986 -0.52373329  0.01228563]]\n"
     ]
    }
   ],
   "source": [
    "print(np.random.randn(3,3))"
   ]
  },
  {
   "cell_type": "code",
   "execution_count": 85,
   "id": "18216fcd",
   "metadata": {
    "ExecuteTime": {
     "end_time": "2022-11-02T04:04:36.531304Z",
     "start_time": "2022-11-02T04:04:36.527303Z"
    }
   },
   "outputs": [],
   "source": [
    "#Write a NumPy program to generate six random integers between 10 and 30."
   ]
  },
  {
   "cell_type": "code",
   "execution_count": 90,
   "id": "1a885741",
   "metadata": {
    "ExecuteTime": {
     "end_time": "2022-11-02T04:05:54.290526Z",
     "start_time": "2022-11-02T04:05:54.279524Z"
    }
   },
   "outputs": [
    {
     "name": "stdout",
     "output_type": "stream",
     "text": [
      "[19 17 11 12 22 11]\n"
     ]
    }
   ],
   "source": [
    "print(np.random.randint(10, 30, 6 ))"
   ]
  },
  {
   "cell_type": "code",
   "execution_count": 91,
   "id": "03e723d2",
   "metadata": {
    "ExecuteTime": {
     "end_time": "2022-11-02T04:06:00.760869Z",
     "start_time": "2022-11-02T04:06:00.743910Z"
    }
   },
   "outputs": [
    {
     "name": "stdout",
     "output_type": "stream",
     "text": [
      "[25 19 27 11 27 14]\n"
     ]
    }
   ],
   "source": [
    "import numpy as np\n",
    "x = np.random.randint(low=10, high=30, size=6)\n",
    "print(x)"
   ]
  },
  {
   "cell_type": "code",
   "execution_count": 92,
   "id": "4d58135b",
   "metadata": {
    "ExecuteTime": {
     "end_time": "2022-11-02T04:06:13.437965Z",
     "start_time": "2022-11-02T04:06:13.419017Z"
    }
   },
   "outputs": [],
   "source": [
    "#Write a NumPy program to create a 3x3x3 array with random values."
   ]
  },
  {
   "cell_type": "code",
   "execution_count": 93,
   "id": "c145920f",
   "metadata": {
    "ExecuteTime": {
     "end_time": "2022-11-02T04:06:16.511881Z",
     "start_time": "2022-11-02T04:06:16.500886Z"
    }
   },
   "outputs": [
    {
     "name": "stdout",
     "output_type": "stream",
     "text": [
      "[[[0.67306663 0.65480267 0.13732022]\n",
      "  [0.15793064 0.3700007  0.17078644]\n",
      "  [0.18114619 0.01522595 0.40388903]]\n",
      "\n",
      " [[0.97849918 0.96227977 0.03361124]\n",
      "  [0.72199488 0.04135832 0.40254812]\n",
      "  [0.55239086 0.94452341 0.43638919]]\n",
      "\n",
      " [[0.73830945 0.24590284 0.08775508]\n",
      "  [0.97207182 0.37116282 0.15548805]\n",
      "  [0.49006384 0.96530867 0.76530632]]]\n"
     ]
    }
   ],
   "source": [
    "import numpy as np\n",
    "arr = np.random.random((3,3,3))\n",
    "print(arr)"
   ]
  },
  {
   "cell_type": "code",
   "execution_count": 94,
   "id": "05f83443",
   "metadata": {
    "ExecuteTime": {
     "end_time": "2022-11-02T04:07:00.147468Z",
     "start_time": "2022-11-02T04:07:00.135468Z"
    }
   },
   "outputs": [],
   "source": [
    "#Write a NumPy program to create a 5x5 array with random values and find the minimum and maximum values."
   ]
  },
  {
   "cell_type": "code",
   "execution_count": 95,
   "id": "454a1c09",
   "metadata": {
    "ExecuteTime": {
     "end_time": "2022-11-02T04:08:39.842638Z",
     "start_time": "2022-11-02T04:08:39.832694Z"
    }
   },
   "outputs": [
    {
     "name": "stdout",
     "output_type": "stream",
     "text": [
      "[[0.49513316 0.64528099 0.9336088  0.89689097 0.55155248]\n",
      " [0.09364048 0.5517106  0.64213677 0.72893918 0.38984169]\n",
      " [0.57005247 0.61538564 0.02579274 0.48034103 0.13225498]\n",
      " [0.75105756 0.68189772 0.03086397 0.31099662 0.2697993 ]\n",
      " [0.44460063 0.11769069 0.21613314 0.04723123 0.35287183]]\n",
      "Minimum and Maximum Values:\n",
      "0.02579274209047111 0.9336088026015628\n"
     ]
    }
   ],
   "source": [
    "x = np.random.random((5,5))\n",
    "print(x) \n",
    "print(\"Minimum and Maximum Values:\")\n",
    "print( x.min(), x.max())"
   ]
  },
  {
   "cell_type": "code",
   "execution_count": 96,
   "id": "da29f893",
   "metadata": {
    "ExecuteTime": {
     "end_time": "2022-11-02T04:10:38.894201Z",
     "start_time": "2022-11-02T04:10:38.877245Z"
    }
   },
   "outputs": [],
   "source": [
    "#Write a NumPy program to create a random vector of size 10 and sort it."
   ]
  },
  {
   "cell_type": "code",
   "execution_count": 97,
   "id": "50f4da95",
   "metadata": {
    "ExecuteTime": {
     "end_time": "2022-11-02T04:11:33.937404Z",
     "start_time": "2022-11-02T04:11:33.847633Z"
    }
   },
   "outputs": [
    {
     "name": "stdout",
     "output_type": "stream",
     "text": [
      "Original array: [0.01101681 0.40219857 0.8046179  0.48993515 0.33816225 0.95680622\n",
      " 0.11613826 0.47179668 0.50796522 0.9606825 ]\n",
      "Sorted array: [0.01101681 0.11613826 0.33816225 0.40219857 0.47179668 0.48993515\n",
      " 0.50796522 0.8046179  0.95680622 0.9606825 ]\n"
     ]
    }
   ],
   "source": [
    "import numpy as np\n",
    "x = np.random.random(10)\n",
    "print(\"Original array:\", x)\n",
    "x.sort()\n",
    "print(\"Sorted array:\", x)\n"
   ]
  },
  {
   "cell_type": "code",
   "execution_count": 98,
   "id": "61d58562",
   "metadata": {
    "ExecuteTime": {
     "end_time": "2022-11-02T04:13:53.422185Z",
     "start_time": "2022-11-02T04:13:53.410191Z"
    }
   },
   "outputs": [],
   "source": [
    "#Write a NumPy program to create random vector of size 15 and replace the maximum value by -1."
   ]
  },
  {
   "cell_type": "code",
   "execution_count": 99,
   "id": "2addd8bc",
   "metadata": {
    "ExecuteTime": {
     "end_time": "2022-11-02T04:14:20.588862Z",
     "start_time": "2022-11-02T04:14:20.499088Z"
    }
   },
   "outputs": [
    {
     "name": "stdout",
     "output_type": "stream",
     "text": [
      "Original array: [0.49954109 0.76880774 0.73200633 0.40584474 0.1920458  0.26085762\n",
      " 0.63468164 0.25611595 0.69741479 0.13823164 0.35778972 0.47712692\n",
      " 0.04434376 0.53745214 0.79821337]\n",
      "Maximum value replaced by -1:\n",
      "[ 0.49954109  0.76880774  0.73200633  0.40584474  0.1920458   0.26085762\n",
      "  0.63468164  0.25611595  0.69741479  0.13823164  0.35778972  0.47712692\n",
      "  0.04434376  0.53745214 -1.        ]\n"
     ]
    }
   ],
   "source": [
    "import numpy as np\n",
    "x = np.random.random(15)\n",
    "print(\"Original array:\",x)\n",
    "x[x.argmax()] = -1\n",
    "print(\"Maximum value replaced by -1:\")\n",
    "print(x)"
   ]
  },
  {
   "cell_type": "code",
   "execution_count": 100,
   "id": "bed770bc",
   "metadata": {
    "ExecuteTime": {
     "end_time": "2022-11-02T04:16:06.391506Z",
     "start_time": "2022-11-02T04:16:06.385521Z"
    }
   },
   "outputs": [],
   "source": [
    "#Write a NumPy program to shuffle numbers between 0 and 10 (inclusive)."
   ]
  },
  {
   "cell_type": "code",
   "execution_count": 101,
   "id": "3e3b953e",
   "metadata": {
    "ExecuteTime": {
     "end_time": "2022-11-02T04:16:46.089461Z",
     "start_time": "2022-11-02T04:16:46.021640Z"
    }
   },
   "outputs": [
    {
     "name": "stdout",
     "output_type": "stream",
     "text": [
      "[8 2 0 9 7 4 3 6 5 1]\n"
     ]
    }
   ],
   "source": [
    "import numpy as np\n",
    "arr = np.arange(10)\n",
    "np.random.shuffle(arr)\n",
    "print(arr)"
   ]
  },
  {
   "cell_type": "code",
   "execution_count": 102,
   "id": "e38bc681",
   "metadata": {
    "ExecuteTime": {
     "end_time": "2022-11-02T04:18:09.983846Z",
     "start_time": "2022-11-02T04:18:09.964925Z"
    }
   },
   "outputs": [],
   "source": [
    "#Write a NumPy program to create a random 10x4 array and extract the first five rows of the array and store them into a variable."
   ]
  },
  {
   "cell_type": "code",
   "execution_count": 103,
   "id": "cf21d9f7",
   "metadata": {
    "ExecuteTime": {
     "end_time": "2022-11-02T04:19:49.672074Z",
     "start_time": "2022-11-02T04:19:49.653124Z"
    }
   },
   "outputs": [
    {
     "name": "stdout",
     "output_type": "stream",
     "text": [
      "Original array: \n",
      "[[0.94841474 0.91662216 0.52648976 0.70417265]\n",
      " [0.70404406 0.9086419  0.06830489 0.65999698]\n",
      " [0.28684413 0.71463374 0.75772373 0.02057804]\n",
      " [0.43723773 0.33687556 0.49350183 0.68743497]\n",
      " [0.16843317 0.6872224  0.96086111 0.00868691]\n",
      " [0.96650829 0.16160802 0.7587211  0.09647791]\n",
      " [0.50624842 0.35099044 0.66401723 0.80968575]\n",
      " [0.42434517 0.81372814 0.9144825  0.94179248]\n",
      " [0.85454433 0.64025993 0.78686834 0.9074902 ]\n",
      " [0.77817003 0.55203858 0.70108776 0.50744277]]\n",
      "First 5 rows of the above array:\n",
      "[[0.94841474 0.91662216 0.52648976 0.70417265]\n",
      " [0.70404406 0.9086419  0.06830489 0.65999698]\n",
      " [0.28684413 0.71463374 0.75772373 0.02057804]\n",
      " [0.43723773 0.33687556 0.49350183 0.68743497]\n",
      " [0.16843317 0.6872224  0.96086111 0.00868691]]\n"
     ]
    }
   ],
   "source": [
    "import numpy as np\n",
    "x = np.random.rand(10, 4)\n",
    "print(\"Original array: \")\n",
    "print(x)\n",
    "y= x[:5, :]\n",
    "print(\"First 5 rows of the above array:\")\n",
    "print(y)"
   ]
  },
  {
   "cell_type": "code",
   "execution_count": 104,
   "id": "38e7eca6",
   "metadata": {
    "ExecuteTime": {
     "end_time": "2022-11-02T04:24:00.192664Z",
     "start_time": "2022-11-02T04:24:00.186679Z"
    }
   },
   "outputs": [],
   "source": [
    "#Write a NumPy program to sort the specified number of elements from beginning of a given array."
   ]
  },
  {
   "cell_type": "code",
   "execution_count": 105,
   "id": "5f9bb22f",
   "metadata": {
    "ExecuteTime": {
     "end_time": "2022-11-02T04:27:46.262518Z",
     "start_time": "2022-11-02T04:27:46.119538Z"
    }
   },
   "outputs": [
    {
     "name": "stdout",
     "output_type": "stream",
     "text": [
      "Original array:\n",
      "[0.39584259 0.48605208 0.7234843  0.39559642 0.7616823  0.92163935\n",
      " 0.11944803 0.80537934 0.90875593 0.3056832 ]\n",
      "\n",
      "Sorted first 5 elements:\n",
      "[0.11944803 0.3056832  0.39559642 0.39584259 0.48605208 0.92163935\n",
      " 0.7234843  0.80537934 0.90875593 0.7616823 ]\n"
     ]
    }
   ],
   "source": [
    "import numpy as np\n",
    "nums =  np.random.rand(10)\n",
    "print(\"Original array:\")\n",
    "print(nums)\n",
    "print(\"\\nSorted first 5 elements:\")\n",
    "print(nums[np.argpartition(nums,range(5))])"
   ]
  },
  {
   "cell_type": "code",
   "execution_count": 106,
   "id": "09d0b65d",
   "metadata": {
    "ExecuteTime": {
     "end_time": "2022-11-02T04:27:51.525225Z",
     "start_time": "2022-11-02T04:27:51.507271Z"
    }
   },
   "outputs": [
    {
     "name": "stdout",
     "output_type": "stream",
     "text": [
      "[0.11944803 0.3056832  0.39559642 0.39584259 0.48605208 0.7234843\n",
      " 0.7616823  0.80537934 0.90875593 0.92163935]\n"
     ]
    }
   ],
   "source": [
    "print(np.sort(nums, axis=0))   "
   ]
  },
  {
   "cell_type": "code",
   "execution_count": 107,
   "id": "ad6cc511",
   "metadata": {
    "ExecuteTime": {
     "end_time": "2022-11-02T04:28:20.839418Z",
     "start_time": "2022-11-02T04:28:20.822435Z"
    }
   },
   "outputs": [],
   "source": [
    "#Write a NumPy program to get the indices of the sorted elements of a given array."
   ]
  },
  {
   "cell_type": "code",
   "execution_count": 108,
   "id": "f8e9cd28",
   "metadata": {
    "ExecuteTime": {
     "end_time": "2022-11-02T04:29:56.846427Z",
     "start_time": "2022-11-02T04:29:56.834478Z"
    }
   },
   "outputs": [
    {
     "name": "stdout",
     "output_type": "stream",
     "text": [
      "[0.11944803 0.3056832  0.39559642 0.39584259 0.48605208 0.7234843\n",
      " 0.7616823  0.80537934 0.90875593 0.92163935]\n"
     ]
    }
   ],
   "source": [
    "x = np.sort(nums)\n",
    "print(x)"
   ]
  },
  {
   "cell_type": "code",
   "execution_count": 109,
   "id": "44954519",
   "metadata": {
    "ExecuteTime": {
     "end_time": "2022-11-02T04:30:48.703956Z",
     "start_time": "2022-11-02T04:30:48.684983Z"
    }
   },
   "outputs": [
    {
     "name": "stdout",
     "output_type": "stream",
     "text": [
      "Original array:\n",
      "[1023 5202 6230 1671 1682 5241 4532]\n",
      "Indices of the sorted elements of a given array:\n",
      "[0 3 4 6 1 5 2]\n"
     ]
    }
   ],
   "source": [
    "#another way\n",
    "import numpy as np\n",
    "student_id = np.array([1023, 5202, 6230, 1671, 1682, 5241, 4532])\n",
    "print(\"Original array:\")\n",
    "print(student_id)\n",
    "i = np.argsort(student_id)\n",
    "print(\"Indices of the sorted elements of a given array:\")\n",
    "print(i)"
   ]
  },
  {
   "cell_type": "code",
   "execution_count": 110,
   "id": "32fbb85f",
   "metadata": {
    "ExecuteTime": {
     "end_time": "2022-11-02T04:33:13.885253Z",
     "start_time": "2022-11-02T04:33:13.877275Z"
    }
   },
   "outputs": [],
   "source": [
    "#Write a NumPy program to create a structured array from given student name, height, class and their data types. Now sort by class, then height if class are equal."
   ]
  },
  {
   "cell_type": "code",
   "execution_count": 111,
   "id": "3b9756a4",
   "metadata": {
    "ExecuteTime": {
     "end_time": "2022-11-02T04:33:51.507015Z",
     "start_time": "2022-11-02T04:33:51.349245Z"
    }
   },
   "outputs": [
    {
     "name": "stdout",
     "output_type": "stream",
     "text": [
      "Original array:\n",
      "[(b'James', 5, 48.5 ) (b'Nail', 6, 52.5 ) (b'Paul', 5, 42.1 )\n",
      " (b'Pit', 5, 40.11)]\n",
      "Sort by class, then height if class are equal:\n",
      "[(b'Pit', 5, 40.11) (b'Paul', 5, 42.1 ) (b'James', 5, 48.5 )\n",
      " (b'Nail', 6, 52.5 )]\n"
     ]
    }
   ],
   "source": [
    "import numpy as np\n",
    "data_type = [('name', 'S15'), ('class', int), ('height', float)]\n",
    "students_details = [('James', 5, 48.5), ('Nail', 6, 52.5),('Paul', 5, 42.10), ('Pit', 5, 40.11)]\n",
    "# create a structured array\n",
    "students = np.array(students_details, dtype=data_type)   \n",
    "print(\"Original array:\")\n",
    "print(students)\n",
    "print(\"Sort by class, then height if class are equal:\")\n",
    "print(np.sort(students, order=['class', 'height']))"
   ]
  },
  {
   "cell_type": "code",
   "execution_count": 112,
   "id": "590db9e1",
   "metadata": {
    "ExecuteTime": {
     "end_time": "2022-11-02T04:35:37.387814Z",
     "start_time": "2022-11-02T04:35:37.375823Z"
    }
   },
   "outputs": [],
   "source": [
    "#Write a NumPy program to create a structured array from given student name, height, class and their data types. Now sort the array on height."
   ]
  },
  {
   "cell_type": "code",
   "execution_count": 113,
   "id": "1df979aa",
   "metadata": {
    "ExecuteTime": {
     "end_time": "2022-11-02T04:35:39.361233Z",
     "start_time": "2022-11-02T04:35:39.346269Z"
    }
   },
   "outputs": [
    {
     "name": "stdout",
     "output_type": "stream",
     "text": [
      "[(b'Pit', 5, 40.11) (b'Paul', 5, 42.1 ) (b'James', 5, 48.5 )\n",
      " (b'Nail', 6, 52.5 )]\n"
     ]
    }
   ],
   "source": [
    "print(np.sort(students, order='height'))    \n"
   ]
  },
  {
   "cell_type": "code",
   "execution_count": 114,
   "id": "c0aabd83",
   "metadata": {
    "ExecuteTime": {
     "end_time": "2022-11-02T04:37:13.982702Z",
     "start_time": "2022-11-02T04:37:13.975722Z"
    }
   },
   "outputs": [],
   "source": [
    "#Write a NumPy program to sort a given array of shape 2 along the first axis, last axis and on flattened array."
   ]
  },
  {
   "cell_type": "code",
   "execution_count": 115,
   "id": "15f2c5a7",
   "metadata": {
    "ExecuteTime": {
     "end_time": "2022-11-02T04:37:30.541994Z",
     "start_time": "2022-11-02T04:37:30.520077Z"
    }
   },
   "outputs": [
    {
     "name": "stdout",
     "output_type": "stream",
     "text": [
      "Original array:\n",
      "[[10 40]\n",
      " [30 20]]\n",
      "Sort the array along the first axis:\n",
      "[[10 20]\n",
      " [30 40]]\n",
      "Sort the array along the last axis:\n",
      "[[10 40]\n",
      " [20 30]]\n",
      "Sort the flattened array:\n",
      "[10 20 30 40]\n"
     ]
    }
   ],
   "source": [
    "import numpy as np\n",
    "a = np.array([[10,40],[30,20]])\n",
    "print(\"Original array:\")\n",
    "print(a)\n",
    "print(\"Sort the array along the first axis:\")\n",
    "print(np.sort(a, axis=0))\n",
    "print(\"Sort the array along the last axis:\")\n",
    "print(np.sort(a))\n",
    "print(\"Sort the flattened array:\")\n",
    "print(np.sort(a, axis=None))"
   ]
  },
  {
   "cell_type": "code",
   "execution_count": 117,
   "id": "6f174464",
   "metadata": {
    "ExecuteTime": {
     "end_time": "2022-11-02T04:43:43.368712Z",
     "start_time": "2022-11-02T04:43:43.361731Z"
    }
   },
   "outputs": [],
   "source": [
    "#Write a NumPy program to generate a matrix product of two arrays."
   ]
  },
  {
   "cell_type": "code",
   "execution_count": 118,
   "id": "3d33f2d1",
   "metadata": {
    "ExecuteTime": {
     "end_time": "2022-11-02T04:44:47.304978Z",
     "start_time": "2022-11-02T04:44:47.234163Z"
    }
   },
   "outputs": [
    {
     "name": "stdout",
     "output_type": "stream",
     "text": [
      "Matrices and vectors.\n",
      "x:\n",
      "[[1, 0], [1, 1]]\n",
      "y:\n",
      "[[3, 1], [2, 2]]\n",
      "Matrix product of above two arrays:\n",
      "[[3 1]\n",
      " [5 3]]\n"
     ]
    }
   ],
   "source": [
    "import numpy as np\n",
    "x = [[1, 0], [1, 1]]\n",
    "y = [[3, 1], [2, 2]]\n",
    "print(\"Matrices and vectors.\")\n",
    "print(\"x:\")\n",
    "print(x)\n",
    "print(\"y:\")\n",
    "print(y)\n",
    "print(\"Matrix product of above two arrays:\")\n",
    "print(np.matmul(x, y))\n"
   ]
  },
  {
   "cell_type": "code",
   "execution_count": 120,
   "id": "f705db05",
   "metadata": {
    "ExecuteTime": {
     "end_time": "2022-11-02T04:45:42.697980Z",
     "start_time": "2022-11-02T04:45:42.679029Z"
    }
   },
   "outputs": [],
   "source": [
    "#Write a NumPy program to multiply a 5x3 matrix by a 3x2 matrix and create a real matrix product."
   ]
  },
  {
   "cell_type": "code",
   "execution_count": 121,
   "id": "9b63ea7f",
   "metadata": {
    "ExecuteTime": {
     "end_time": "2022-11-02T04:46:33.381650Z",
     "start_time": "2022-11-02T04:46:32.534383Z"
    }
   },
   "outputs": [
    {
     "name": "stdout",
     "output_type": "stream",
     "text": [
      "First array:\n",
      "[[0.97484938 0.50626487 0.85259318]\n",
      " [0.03051343 0.1183377  0.81512726]\n",
      " [0.96121211 0.44508308 0.83628771]\n",
      " [0.58862266 0.26998263 0.72887719]\n",
      " [0.63451483 0.8881228  0.41088742]]\n",
      "Second array:\n",
      "[[0.58078911 0.81195211]\n",
      " [0.07446087 0.40344348]\n",
      " [0.92840098 0.98852474]]\n",
      "Dot product of two arrays:\n",
      "[[1.39542716 1.83858972]\n",
      " [0.78329834 0.87829148]\n",
      " [1.36781312 1.78671515]\n",
      " [1.03865907 1.30736928]\n",
      " [0.81611798 1.27967539]]\n"
     ]
    }
   ],
   "source": [
    "import numpy as np\n",
    "x = np.random.random((5,3))\n",
    "print(\"First array:\")\n",
    "print(x)\n",
    "y = np.random.random((3,2))\n",
    "print(\"Second array:\")\n",
    "print(y)\n",
    "z = np.dot(x, y)\n",
    "print(\"Dot product of two arrays:\")\n",
    "print(z)"
   ]
  },
  {
   "cell_type": "code",
   "execution_count": 122,
   "id": "d21dbe67",
   "metadata": {
    "ExecuteTime": {
     "end_time": "2022-11-02T04:47:26.722033Z",
     "start_time": "2022-11-02T04:47:26.708041Z"
    }
   },
   "outputs": [],
   "source": [
    "#Write a NumPy program to calculate the absolute value element-wise."
   ]
  },
  {
   "cell_type": "code",
   "execution_count": 125,
   "id": "50ea39b8",
   "metadata": {
    "ExecuteTime": {
     "end_time": "2022-11-02T04:48:39.103536Z",
     "start_time": "2022-11-02T04:48:39.089573Z"
    }
   },
   "outputs": [
    {
     "name": "stdout",
     "output_type": "stream",
     "text": [
      "Original array:\n",
      "[-10.2 122.2   0.2]\n",
      "Element-wise absolute value:\n",
      "[ 10.2 122.2   0.2]\n",
      "[ 10.2 122.2   0.2]\n"
     ]
    }
   ],
   "source": [
    "x = np.array([-10.2, 122.2, .20])\n",
    "print(\"Original array:\")\n",
    "print(x)\n",
    "print(\"Element-wise absolute value:\")\n",
    "print(np.abs(x))\n",
    "print(np.absolute(x))"
   ]
  },
  {
   "cell_type": "code",
   "execution_count": 126,
   "id": "f9450c07",
   "metadata": {
    "ExecuteTime": {
     "end_time": "2022-11-02T04:49:06.831819Z",
     "start_time": "2022-11-02T04:49:06.818848Z"
    }
   },
   "outputs": [],
   "source": [
    "#Write a NumPy program to get the element-wise remainder of an array of division."
   ]
  },
  {
   "cell_type": "code",
   "execution_count": 127,
   "id": "c28152f8",
   "metadata": {
    "ExecuteTime": {
     "end_time": "2022-11-02T04:49:35.502197Z",
     "start_time": "2022-11-02T04:49:35.439624Z"
    }
   },
   "outputs": [
    {
     "name": "stdout",
     "output_type": "stream",
     "text": [
      "Original array:\n",
      "[0 1 2 3 4 5 6]\n",
      "Element-wise remainder of division:\n",
      "[0 1 2 3 4 0 1]\n"
     ]
    }
   ],
   "source": [
    "import numpy as np\n",
    "x = np.arange(7)\n",
    "print(\"Original array:\")\n",
    "print(x)\n",
    "print(\"Element-wise remainder of division:\")\n",
    "print(np.remainder(x, 5))"
   ]
  },
  {
   "cell_type": "code",
   "execution_count": 128,
   "id": "829c6091",
   "metadata": {
    "ExecuteTime": {
     "end_time": "2022-11-02T04:50:16.128779Z",
     "start_time": "2022-11-02T04:50:16.117839Z"
    }
   },
   "outputs": [],
   "source": [
    "#Write a NumPy program to get the powers of an array values element-wise."
   ]
  },
  {
   "cell_type": "code",
   "execution_count": 129,
   "id": "50cd97d5",
   "metadata": {
    "ExecuteTime": {
     "end_time": "2022-11-02T04:50:28.772129Z",
     "start_time": "2022-11-02T04:50:28.762189Z"
    }
   },
   "outputs": [
    {
     "name": "stdout",
     "output_type": "stream",
     "text": [
      "Original array\n",
      "[0 1 2 3 4 5 6]\n",
      "First array elements raised to powers from second array, element-wise:\n",
      "[  0   1   8  27  64 125 216]\n"
     ]
    }
   ],
   "source": [
    "import numpy as np\n",
    "x = np.arange(7)\n",
    "print(\"Original array\")\n",
    "print(x)\n",
    "print(\"First array elements raised to powers from second array, element-wise:\")\n",
    "print(np.power(x, 3))"
   ]
  },
  {
   "cell_type": "code",
   "execution_count": 130,
   "id": "7e562a2c",
   "metadata": {
    "ExecuteTime": {
     "end_time": "2022-11-02T04:50:52.775311Z",
     "start_time": "2022-11-02T04:50:52.765336Z"
    }
   },
   "outputs": [],
   "source": [
    "#Write a NumPy program to get the largest integer smaller or equal to the division of the inputs."
   ]
  },
  {
   "cell_type": "code",
   "execution_count": 131,
   "id": "777efdb8",
   "metadata": {
    "ExecuteTime": {
     "end_time": "2022-11-02T04:51:31.770799Z",
     "start_time": "2022-11-02T04:51:31.690015Z"
    }
   },
   "outputs": [
    {
     "name": "stdout",
     "output_type": "stream",
     "text": [
      "Original array:\n",
      "[1.0, 2.0, 3.0, 4.0]\n",
      "Largest integer smaller or equal to the division of the inputs:\n",
      "[0. 1. 2. 2.]\n"
     ]
    }
   ],
   "source": [
    "x = [1., 2., 3., 4.]\n",
    "print(\"Original array:\")\n",
    "print(x)\n",
    "print(\"Largest integer smaller or equal to the division of the inputs:\")\n",
    "print(np.floor_divide(x, 1.5))"
   ]
  },
  {
   "cell_type": "code",
   "execution_count": 132,
   "id": "6c52eff6",
   "metadata": {
    "ExecuteTime": {
     "end_time": "2022-11-02T04:52:56.897447Z",
     "start_time": "2022-11-02T04:52:56.878499Z"
    }
   },
   "outputs": [],
   "source": [
    "#Write a NumPy program to add, subtract, multiply, divide arguments element-wise.\n",
    "#Sample elements: 4.0, 1.2"
   ]
  },
  {
   "cell_type": "code",
   "execution_count": 133,
   "id": "ba498be6",
   "metadata": {
    "ExecuteTime": {
     "end_time": "2022-11-02T04:53:10.624123Z",
     "start_time": "2022-11-02T04:53:10.555309Z"
    }
   },
   "outputs": [
    {
     "name": "stdout",
     "output_type": "stream",
     "text": [
      "Add:\n",
      "5.0\n",
      "Subtract:\n",
      "-3.0\n",
      "Multiply:\n",
      "4.0\n",
      "Divide:\n",
      "0.25\n"
     ]
    }
   ],
   "source": [
    "import numpy as np\n",
    "print(\"Add:\")\n",
    "print(np.add(1.0, 4.0))\n",
    "print(\"Subtract:\")\n",
    "print(np.subtract(1.0, 4.0))\n",
    "print(\"Multiply:\")\n",
    "print(np.multiply(1.0, 4.0))\n",
    "print(\"Divide:\")\n",
    "print(np.divide(1.0, 4.0))\n"
   ]
  },
  {
   "cell_type": "code",
   "execution_count": 139,
   "id": "2febaef7",
   "metadata": {
    "ExecuteTime": {
     "end_time": "2022-11-02T04:59:09.323981Z",
     "start_time": "2022-11-02T04:59:09.309020Z"
    }
   },
   "outputs": [],
   "source": [
    "#Write a NumPy program to get the dates of yesterday, today and tomorrow."
   ]
  },
  {
   "cell_type": "code",
   "execution_count": 134,
   "id": "8a11e222",
   "metadata": {
    "ExecuteTime": {
     "end_time": "2022-11-02T04:56:44.968940Z",
     "start_time": "2022-11-02T04:56:44.944972Z"
    }
   },
   "outputs": [
    {
     "name": "stdout",
     "output_type": "stream",
     "text": [
      "Yestraday:  2022-11-01\n",
      "Today:  2022-11-02\n",
      "Tomorrow:  2022-11-03\n"
     ]
    }
   ],
   "source": [
    "import numpy as np\n",
    "yesterday = np.datetime64('today', 'D') - np.timedelta64(1, 'D')\n",
    "print(\"Yestraday: \",yesterday)\n",
    "today     = np.datetime64('today', 'D')\n",
    "print(\"Today: \",today)\n",
    "tomorrow  = np.datetime64('today', 'D') + np.timedelta64(1, 'D')\n",
    "print(\"Tomorrow: \",tomorrow)"
   ]
  },
  {
   "cell_type": "code",
   "execution_count": 138,
   "id": "74dd3931",
   "metadata": {
    "ExecuteTime": {
     "end_time": "2022-11-02T04:58:59.097667Z",
     "start_time": "2022-11-02T04:58:59.088691Z"
    }
   },
   "outputs": [],
   "source": [
    "#Write a NumPy program to count the number of days of specific month."
   ]
  },
  {
   "cell_type": "code",
   "execution_count": 135,
   "id": "ba4c3023",
   "metadata": {
    "ExecuteTime": {
     "end_time": "2022-11-02T04:58:05.456910Z",
     "start_time": "2022-11-02T04:58:05.436964Z"
    }
   },
   "outputs": [
    {
     "name": "stdout",
     "output_type": "stream",
     "text": [
      "Number of days, February, 2016: \n",
      "29 days\n",
      "Number of days, February, 2017: \n",
      "28 days\n",
      "Number of days, February, 2018: \n",
      "28 days\n"
     ]
    }
   ],
   "source": [
    "import numpy as np\n",
    "print(\"Number of days, February, 2016: \")\n",
    "print(np.datetime64('2016-03-01') - np.datetime64('2016-02-01'))\n",
    "print(\"Number of days, February, 2017: \")\n",
    "print(np.datetime64('2017-03-01') - np.datetime64('2017-02-01'))\n",
    "print(\"Number of days, February, 2018: \")\n",
    "print(np.datetime64('2018-03-01') - np.datetime64('2018-02-01'))"
   ]
  },
  {
   "cell_type": "code",
   "execution_count": 137,
   "id": "3b96544f",
   "metadata": {
    "ExecuteTime": {
     "end_time": "2022-11-02T04:58:48.506124Z",
     "start_time": "2022-11-02T04:58:48.490172Z"
    }
   },
   "outputs": [],
   "source": [
    "#Write a NumPy program to display all the dates for the month of March, 2017."
   ]
  },
  {
   "cell_type": "code",
   "execution_count": 136,
   "id": "e077726e",
   "metadata": {
    "ExecuteTime": {
     "end_time": "2022-11-02T04:58:41.393326Z",
     "start_time": "2022-11-02T04:58:41.306587Z"
    }
   },
   "outputs": [
    {
     "name": "stdout",
     "output_type": "stream",
     "text": [
      "March, 2017\n",
      "['2017-03-01' '2017-03-02' '2017-03-03' '2017-03-04' '2017-03-05'\n",
      " '2017-03-06' '2017-03-07' '2017-03-08' '2017-03-09' '2017-03-10'\n",
      " '2017-03-11' '2017-03-12' '2017-03-13' '2017-03-14' '2017-03-15'\n",
      " '2017-03-16' '2017-03-17' '2017-03-18' '2017-03-19' '2017-03-20'\n",
      " '2017-03-21' '2017-03-22' '2017-03-23' '2017-03-24' '2017-03-25'\n",
      " '2017-03-26' '2017-03-27' '2017-03-28' '2017-03-29' '2017-03-30'\n",
      " '2017-03-31']\n"
     ]
    }
   ],
   "source": [
    "import numpy as np\n",
    "print(\"March, 2017\")\n",
    "print(np.arange('2017-03', '2017-04', dtype='datetime64[D]'))"
   ]
  },
  {
   "cell_type": "code",
   "execution_count": 143,
   "id": "e8861d12",
   "metadata": {
    "ExecuteTime": {
     "end_time": "2022-11-02T05:08:50.531025Z",
     "start_time": "2022-11-02T05:08:50.516081Z"
    }
   },
   "outputs": [],
   "source": [
    "#Write a NumPy program to get the minimum and maximum value of a given array along the second axis."
   ]
  },
  {
   "cell_type": "code",
   "execution_count": 144,
   "id": "f8e9b305",
   "metadata": {
    "ExecuteTime": {
     "end_time": "2022-11-02T05:09:08.341421Z",
     "start_time": "2022-11-02T05:09:08.270637Z"
    }
   },
   "outputs": [
    {
     "name": "stdout",
     "output_type": "stream",
     "text": [
      "\n",
      "Original array:\n",
      "[[0 1]\n",
      " [2 3]]\n",
      "\n",
      "Maximum value along the second axis:\n",
      "[1 3]\n",
      "Minimum value along the second axis:\n",
      "[0 2]\n"
     ]
    }
   ],
   "source": [
    "import numpy as np\n",
    "x = np.arange(4).reshape((2, 2))\n",
    "print(\"\\nOriginal array:\")\n",
    "print(x)\n",
    "print(\"\\nMaximum value along the second axis:\")\n",
    "print(np.amax(x, 1))\n",
    "print(\"Minimum value along the second axis:\")\n",
    "print(np.amin(x, 1))"
   ]
  },
  {
   "cell_type": "code",
   "execution_count": 145,
   "id": "a7f2b889",
   "metadata": {
    "ExecuteTime": {
     "end_time": "2022-11-02T05:09:44.356403Z",
     "start_time": "2022-11-02T05:09:44.350421Z"
    }
   },
   "outputs": [],
   "source": [
    "#Write a Python program to find the maximum and minimum value of a given flattened array."
   ]
  },
  {
   "cell_type": "code",
   "execution_count": 146,
   "id": "93980d85",
   "metadata": {
    "ExecuteTime": {
     "end_time": "2022-11-02T05:10:23.129397Z",
     "start_time": "2022-11-02T05:10:23.118397Z"
    }
   },
   "outputs": [
    {
     "name": "stdout",
     "output_type": "stream",
     "text": [
      "3\n",
      "0\n"
     ]
    }
   ],
   "source": [
    "print(np.amax(x))\n",
    "print(np.amin(x))"
   ]
  },
  {
   "cell_type": "code",
   "execution_count": 157,
   "id": "3f4a079c",
   "metadata": {
    "ExecuteTime": {
     "end_time": "2022-11-02T05:14:45.124623Z",
     "start_time": "2022-11-02T05:14:45.105644Z"
    }
   },
   "outputs": [],
   "source": [
    "#Write a NumPy program to replace \"PHP\" with \"Python\" in the element of a given array."
   ]
  },
  {
   "cell_type": "code",
   "execution_count": 159,
   "id": "f132db2f",
   "metadata": {
    "ExecuteTime": {
     "end_time": "2022-11-02T05:18:06.749173Z",
     "start_time": "2022-11-02T05:18:06.734213Z"
    }
   },
   "outputs": [
    {
     "name": "stdout",
     "output_type": "stream",
     "text": [
      "\n",
      "Original Array:\n",
      "['PHP Exercises, Practice, Solution']\n",
      "\n",
      "New array:\n",
      "['Python Exercises']\n",
      "['Python Exercises']\n"
     ]
    },
    {
     "name": "stderr",
     "output_type": "stream",
     "text": [
      "C:\\Users\\hp\\AppData\\Local\\Temp\\ipykernel_17284\\3696213087.py:2: DeprecationWarning: `np.str` is a deprecated alias for the builtin `str`. To silence this warning, use `str` by itself. Doing this will not modify any behavior and is safe. If you specifically wanted the numpy scalar type, use `np.str_` here.\n",
      "Deprecated in NumPy 1.20; for more details and guidance: https://numpy.org/devdocs/release/1.20.0-notes.html#deprecations\n",
      "  x = np.array(['PHP Exercises, Practice, Solution'], dtype=np.str)\n"
     ]
    }
   ],
   "source": [
    "import numpy as np\n",
    "x = np.array(['PHP Exercises, Practice, Solution'], dtype=np.str)\n",
    "print(\"\\nOriginal Array:\")\n",
    "print(x)\n",
    "x[0]='Python Exercises'\n",
    "r = np.char.replace(x, \"PHP\", \"Python\")\n",
    "print(\"\\nNew array:\")\n",
    "print(r)\n",
    "print(x)"
   ]
  },
  {
   "cell_type": "code",
   "execution_count": 160,
   "id": "ed607391",
   "metadata": {
    "ExecuteTime": {
     "end_time": "2022-11-02T05:19:28.371043Z",
     "start_time": "2022-11-02T05:19:28.354089Z"
    }
   },
   "outputs": [],
   "source": [
    "#Write a NumPy program to make all the elements of a given string to a numeric string of 5 digits with zeros on its left."
   ]
  },
  {
   "cell_type": "code",
   "execution_count": 161,
   "id": "e9c9eefc",
   "metadata": {
    "ExecuteTime": {
     "end_time": "2022-11-02T05:19:43.766856Z",
     "start_time": "2022-11-02T05:19:43.745936Z"
    }
   },
   "outputs": [
    {
     "name": "stdout",
     "output_type": "stream",
     "text": [
      "\n",
      "Original Array:\n",
      "['2' '11' '234' '1234' '12345']\n",
      "\n",
      "Numeric string of 5 digits with zeros:\n",
      "['00002' '00011' '00234' '01234' '12345']\n"
     ]
    },
    {
     "name": "stderr",
     "output_type": "stream",
     "text": [
      "C:\\Users\\hp\\AppData\\Local\\Temp\\ipykernel_17284\\3527862124.py:2: DeprecationWarning: `np.str` is a deprecated alias for the builtin `str`. To silence this warning, use `str` by itself. Doing this will not modify any behavior and is safe. If you specifically wanted the numpy scalar type, use `np.str_` here.\n",
      "Deprecated in NumPy 1.20; for more details and guidance: https://numpy.org/devdocs/release/1.20.0-notes.html#deprecations\n",
      "  x = np.array(['2', '11', '234', '1234', '12345'], dtype=np.str)\n"
     ]
    }
   ],
   "source": [
    "import numpy as np\n",
    "x = np.array(['2', '11', '234', '1234', '12345'], dtype=np.str)\n",
    "print(\"\\nOriginal Array:\")\n",
    "print(x)\n",
    "r = np.char.zfill(x, 5)\n",
    "print(\"\\nNumeric string of 5 digits with zeros:\")\n",
    "print(r) "
   ]
  },
  {
   "cell_type": "code",
   "execution_count": 162,
   "id": "0192bdba",
   "metadata": {
    "ExecuteTime": {
     "end_time": "2022-11-02T05:20:56.237698Z",
     "start_time": "2022-11-02T05:20:56.227697Z"
    }
   },
   "outputs": [],
   "source": [
    "#Write a NumPy program to split the element of a given array with spaces."
   ]
  },
  {
   "cell_type": "code",
   "execution_count": 164,
   "id": "4a492a74",
   "metadata": {
    "ExecuteTime": {
     "end_time": "2022-11-02T05:22:26.954631Z",
     "start_time": "2022-11-02T05:22:26.934684Z"
    }
   },
   "outputs": [
    {
     "name": "stdout",
     "output_type": "stream",
     "text": [
      "[list(['Python', 'PHP', 'Java', 'C++'])]\n"
     ]
    },
    {
     "name": "stderr",
     "output_type": "stream",
     "text": [
      "C:\\Users\\hp\\AppData\\Local\\Temp\\ipykernel_17284\\1864747382.py:1: DeprecationWarning: `np.str` is a deprecated alias for the builtin `str`. To silence this warning, use `str` by itself. Doing this will not modify any behavior and is safe. If you specifically wanted the numpy scalar type, use `np.str_` here.\n",
      "Deprecated in NumPy 1.20; for more details and guidance: https://numpy.org/devdocs/release/1.20.0-notes.html#deprecations\n",
      "  x = np.array(['Python PHP Java C++'], dtype=np.str)\n"
     ]
    }
   ],
   "source": [
    "x = np.array(['Python PHP Java C++'], dtype=np.str)\n",
    "r = np.char.split(x)\n",
    "print(r)"
   ]
  },
  {
   "cell_type": "code",
   "execution_count": 165,
   "id": "916a6d4e",
   "metadata": {
    "ExecuteTime": {
     "end_time": "2022-11-02T05:23:14.472242Z",
     "start_time": "2022-11-02T05:23:14.467254Z"
    }
   },
   "outputs": [],
   "source": [
    "#Write a NumPy program to insert a space between characters of all the elements of a given array."
   ]
  },
  {
   "cell_type": "code",
   "execution_count": 166,
   "id": "6580ca2e",
   "metadata": {
    "ExecuteTime": {
     "end_time": "2022-11-02T05:23:25.788973Z",
     "start_time": "2022-11-02T05:23:25.728135Z"
    }
   },
   "outputs": [
    {
     "name": "stdout",
     "output_type": "stream",
     "text": [
      "Original Array:\n",
      "['python exercises' 'PHP' 'java' 'C++']\n",
      "['p y t h o n   e x e r c i s e s' 'P H P' 'j a v a' 'C + +']\n"
     ]
    },
    {
     "name": "stderr",
     "output_type": "stream",
     "text": [
      "C:\\Users\\hp\\AppData\\Local\\Temp\\ipykernel_17284\\466967180.py:2: DeprecationWarning: `np.str` is a deprecated alias for the builtin `str`. To silence this warning, use `str` by itself. Doing this will not modify any behavior and is safe. If you specifically wanted the numpy scalar type, use `np.str_` here.\n",
      "Deprecated in NumPy 1.20; for more details and guidance: https://numpy.org/devdocs/release/1.20.0-notes.html#deprecations\n",
      "  x = np.array(['python exercises', 'PHP', 'java', 'C++'], dtype=np.str)\n"
     ]
    }
   ],
   "source": [
    "import numpy as np\n",
    "x = np.array(['python exercises', 'PHP', 'java', 'C++'], dtype=np.str)\n",
    "print(\"Original Array:\")\n",
    "print(x)\n",
    "r = np.char.join(\" \", x)\n",
    "print(r)"
   ]
  },
  {
   "cell_type": "code",
   "execution_count": 167,
   "id": "0c9a2c89",
   "metadata": {
    "ExecuteTime": {
     "end_time": "2022-11-02T05:23:50.201465Z",
     "start_time": "2022-11-02T05:23:50.190491Z"
    }
   },
   "outputs": [],
   "source": [
    "#Write a NumPy program to make the length of each element 15 of a given array and the string centered / left-justified / right-justified with paddings of _."
   ]
  },
  {
   "cell_type": "code",
   "execution_count": 168,
   "id": "2033cfde",
   "metadata": {
    "ExecuteTime": {
     "end_time": "2022-11-02T05:24:19.943798Z",
     "start_time": "2022-11-02T05:24:19.933800Z"
    }
   },
   "outputs": [
    {
     "name": "stdout",
     "output_type": "stream",
     "text": [
      "\n",
      "Centered = ['python exercise' '______PHP______' '______java_____' '______C++______']\n",
      "Left = ['python exercise' 'PHP____________' 'java___________' 'C++____________']\n",
      "Right = ['python exercise' '____________PHP' '___________java' '____________C++']\n"
     ]
    }
   ],
   "source": [
    "centered = np.char.center(x, 15, fillchar='_')\n",
    "left = np.char.ljust(x, 15, fillchar='_')\n",
    "right = np.char.rjust(x, 15, fillchar='_')\n",
    "print(\"\\nCentered =\", centered)\n",
    "print(\"Left =\", left)\n",
    "print(\"Right =\", right)\n"
   ]
  },
  {
   "cell_type": "code",
   "execution_count": 169,
   "id": "5da81898",
   "metadata": {
    "ExecuteTime": {
     "end_time": "2022-11-02T05:25:33.359927Z",
     "start_time": "2022-11-02T05:25:33.350921Z"
    }
   },
   "outputs": [],
   "source": [
    "#Write a NumPy program to repeat all the elements three times of a given array of string."
   ]
  },
  {
   "cell_type": "code",
   "execution_count": 170,
   "id": "65361f21",
   "metadata": {
    "ExecuteTime": {
     "end_time": "2022-11-02T05:25:53.574239Z",
     "start_time": "2022-11-02T05:25:53.562270Z"
    }
   },
   "outputs": [
    {
     "name": "stdout",
     "output_type": "stream",
     "text": [
      "Original Array:\n",
      "['Python' 'PHP' 'Java' 'C++']\n",
      "New array:\n",
      "['PythonPythonPython' 'PHPPHPPHP' 'JavaJavaJava' 'C++C++C++']\n"
     ]
    },
    {
     "name": "stderr",
     "output_type": "stream",
     "text": [
      "C:\\Users\\hp\\AppData\\Local\\Temp\\ipykernel_17284\\3340946343.py:1: DeprecationWarning: `np.str` is a deprecated alias for the builtin `str`. To silence this warning, use `str` by itself. Doing this will not modify any behavior and is safe. If you specifically wanted the numpy scalar type, use `np.str_` here.\n",
      "Deprecated in NumPy 1.20; for more details and guidance: https://numpy.org/devdocs/release/1.20.0-notes.html#deprecations\n",
      "  x1 = np.array(['Python', 'PHP', 'Java', 'C++'], dtype=np.str)\n"
     ]
    }
   ],
   "source": [
    "x1 = np.array(['Python', 'PHP', 'Java', 'C++'], dtype=np.str)\n",
    "print(\"Original Array:\")\n",
    "print(x1)\n",
    "new_array = np.char.multiply(x1, 3)\n",
    "print(\"New array:\")\n",
    "print(new_array)"
   ]
  },
  {
   "cell_type": "code",
   "execution_count": 171,
   "id": "583fb158",
   "metadata": {
    "ExecuteTime": {
     "end_time": "2022-11-02T05:26:21.505168Z",
     "start_time": "2022-11-02T05:26:21.500181Z"
    }
   },
   "outputs": [],
   "source": [
    "#Write a NumPy program to concatenate element-wise two arrays of string."
   ]
  },
  {
   "cell_type": "code",
   "execution_count": 172,
   "id": "9ea2d707",
   "metadata": {
    "ExecuteTime": {
     "end_time": "2022-11-02T05:26:38.563439Z",
     "start_time": "2022-11-02T05:26:38.550473Z"
    }
   },
   "outputs": [
    {
     "name": "stdout",
     "output_type": "stream",
     "text": [
      "Array1:\n",
      "['Python' 'PHP']\n",
      "Array2:\n",
      "[' Java' ' C++']\n",
      "new array:\n",
      "['Python Java' 'PHP C++']\n"
     ]
    },
    {
     "name": "stderr",
     "output_type": "stream",
     "text": [
      "C:\\Users\\hp\\AppData\\Local\\Temp\\ipykernel_17284\\786484395.py:1: DeprecationWarning: `np.str` is a deprecated alias for the builtin `str`. To silence this warning, use `str` by itself. Doing this will not modify any behavior and is safe. If you specifically wanted the numpy scalar type, use `np.str_` here.\n",
      "Deprecated in NumPy 1.20; for more details and guidance: https://numpy.org/devdocs/release/1.20.0-notes.html#deprecations\n",
      "  x1 = np.array(['Python', 'PHP'], dtype=np.str)\n",
      "C:\\Users\\hp\\AppData\\Local\\Temp\\ipykernel_17284\\786484395.py:2: DeprecationWarning: `np.str` is a deprecated alias for the builtin `str`. To silence this warning, use `str` by itself. Doing this will not modify any behavior and is safe. If you specifically wanted the numpy scalar type, use `np.str_` here.\n",
      "Deprecated in NumPy 1.20; for more details and guidance: https://numpy.org/devdocs/release/1.20.0-notes.html#deprecations\n",
      "  x2 = np.array([' Java', ' C++'], dtype=np.str)\n"
     ]
    }
   ],
   "source": [
    "x1 = np.array(['Python', 'PHP'], dtype=np.str)\n",
    "x2 = np.array([' Java', ' C++'], dtype=np.str)\n",
    "print(\"Array1:\")\n",
    "print(x1)\n",
    "print(\"Array2:\")\n",
    "print(x2)\n",
    "new_array = np.char.add(x1, x2)\n",
    "print(\"new array:\")\n",
    "print(new_array)"
   ]
  }
 ],
 "metadata": {
  "kernelspec": {
   "display_name": "Python 3 (ipykernel)",
   "language": "python",
   "name": "python3"
  },
  "language_info": {
   "codemirror_mode": {
    "name": "ipython",
    "version": 3
   },
   "file_extension": ".py",
   "mimetype": "text/x-python",
   "name": "python",
   "nbconvert_exporter": "python",
   "pygments_lexer": "ipython3",
   "version": "3.9.12"
  },
  "toc": {
   "base_numbering": 1,
   "nav_menu": {},
   "number_sections": true,
   "sideBar": true,
   "skip_h1_title": false,
   "title_cell": "Table of Contents",
   "title_sidebar": "Contents",
   "toc_cell": false,
   "toc_position": {},
   "toc_section_display": true,
   "toc_window_display": false
  },
  "varInspector": {
   "cols": {
    "lenName": 16,
    "lenType": 16,
    "lenVar": 40
   },
   "kernels_config": {
    "python": {
     "delete_cmd_postfix": "",
     "delete_cmd_prefix": "del ",
     "library": "var_list.py",
     "varRefreshCmd": "print(var_dic_list())"
    },
    "r": {
     "delete_cmd_postfix": ") ",
     "delete_cmd_prefix": "rm(",
     "library": "var_list.r",
     "varRefreshCmd": "cat(var_dic_list()) "
    }
   },
   "types_to_exclude": [
    "module",
    "function",
    "builtin_function_or_method",
    "instance",
    "_Feature"
   ],
   "window_display": false
  }
 },
 "nbformat": 4,
 "nbformat_minor": 5
}
